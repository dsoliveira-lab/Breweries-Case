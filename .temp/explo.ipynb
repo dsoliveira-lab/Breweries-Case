import pandas as pd

df = 'bs_bronze.parquet'

df
