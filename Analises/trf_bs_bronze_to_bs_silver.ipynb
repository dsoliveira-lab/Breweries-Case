{
  "nbformat": 4,
  "nbformat_minor": 0,
  "metadata": {
    "colab": {
      "provenance": []
    },
    "kernelspec": {
      "name": "python3",
      "display_name": "Python 3"
    },
    "language_info": {
      "name": "python"
    }
  },
  "cells": [
    {
      "cell_type": "markdown",
      "source": [
        "# Tratamento dos dados para camada Silver.\n",
        "\n",
        "## Criaçao de um ambiente spark para tratar os dados.\n",
        "## Posteriormente irei transformar os codigos para pandas e ou numpy e inseri-los no projeto."
      ],
      "metadata": {
        "id": "C4-qgx2lnkTC"
      }
    },
    {
      "cell_type": "code",
      "execution_count": 73,
      "metadata": {
        "colab": {
          "base_uri": "https://localhost:8080/"
        },
        "id": "yDX8VnlKlz5K",
        "outputId": "00a18ede-9026-4278-b561-cda65423b77c"
      },
      "outputs": [
        {
          "output_type": "stream",
          "name": "stdout",
          "text": [
            "Get:1 http://security.ubuntu.com/ubuntu jammy-security InRelease [129 kB]\n",
            "Hit:2 http://archive.ubuntu.com/ubuntu jammy InRelease\n",
            "Get:3 http://archive.ubuntu.com/ubuntu jammy-updates InRelease [128 kB]\n",
            "Hit:4 https://developer.download.nvidia.com/compute/cuda/repos/ubuntu2204/x86_64  InRelease\n",
            "Hit:5 http://archive.ubuntu.com/ubuntu jammy-backports InRelease\n",
            "Ign:6 https://r2u.stat.illinois.edu/ubuntu jammy InRelease\n",
            "Hit:7 https://r2u.stat.illinois.edu/ubuntu jammy Release\n",
            "Hit:8 https://cloud.r-project.org/bin/linux/ubuntu jammy-cran40/ InRelease\n",
            "Hit:9 https://ppa.launchpadcontent.net/deadsnakes/ppa/ubuntu jammy InRelease\n",
            "Hit:10 https://ppa.launchpadcontent.net/graphics-drivers/ppa/ubuntu jammy InRelease\n",
            "Hit:11 https://ppa.launchpadcontent.net/ubuntugis/ppa/ubuntu jammy InRelease\n",
            "Fetched 257 kB in 2s (130 kB/s)\n",
            "Reading package lists...\n"
          ]
        },
        {
          "output_type": "stream",
          "name": "stderr",
          "text": [
            "W: Skipping acquire of configured file 'main/source/Sources' as repository 'https://r2u.stat.illinois.edu/ubuntu jammy InRelease' does not seem to provide it (sources.list entry misspelt?)\n"
          ]
        }
      ],
      "source": [
        "%%bash\n",
        "\n",
        "# Instal Java\n",
        "apt-get update --fix-missing\n",
        "apt-get install openjdk-8-jdk-headless -qq > /dev/null\n",
        "\n",
        "# Install PySpark\n",
        "pip install -q pyspark"
      ]
    },
    {
      "cell_type": "code",
      "source": [
        "import os\n",
        "from datetime import datetime\n",
        "from pyspark.sql import SparkSession\n",
        "from pyspark.sql.functions import col, when\n",
        "\n",
        "\n",
        "os.environ['JAVA_HOME'] = '/usr/lib/jvm/java-8-openjdk-amd64'\n",
        "\n",
        "spark = SparkSession.builder.master(\"local[*]\").getOrCreate()\n",
        "spark.conf.set(\"spark.sql.repl.eagerEval.enabled\", True)"
      ],
      "metadata": {
        "id": "NI1g9DeUmIpn"
      },
      "execution_count": 74,
      "outputs": []
    },
    {
      "cell_type": "code",
      "source": [
        "path = \"/content/bs_bronze.parquet\""
      ],
      "metadata": {
        "id": "GSRTwaNOm_9F"
      },
      "execution_count": 75,
      "outputs": []
    },
    {
      "cell_type": "code",
      "source": [
        "df_br_data = spark.read.format(\"parquet\").load(path)"
      ],
      "metadata": {
        "id": "DKsY5vOmnJwv"
      },
      "execution_count": 98,
      "outputs": []
    },
    {
      "cell_type": "code",
      "source": [
        "df_br_data.show(5, False)\n"
      ],
      "metadata": {
        "colab": {
          "base_uri": "https://localhost:8080/"
        },
        "id": "GkX6aF1mnU-I",
        "outputId": "59f19d04-4252-4813-df29-5688e54522ae"
      },
      "execution_count": 99,
      "outputs": [
        {
          "output_type": "stream",
          "name": "stdout",
          "text": [
            "+------------------------------------+-----------------------+------------+---------------------+---------+---------+--------------+--------------+-----------+-------------+------------------+-----------------+----------+----------------------------+----------+---------------------+\n",
            "|id                                  |name                   |brewery_type|address_1            |address_2|address_3|city          |state_province|postal_code|country      |longitude         |latitude         |phone     |website_url                 |state     |street               |\n",
            "+------------------------------------+-----------------------+------------+---------------------+---------+---------+--------------+--------------+-----------+-------------+------------------+-----------------+----------+----------------------------+----------+---------------------+\n",
            "|5128df48-79fc-4f0f-8b52-d06be54d0cec|(405) Brewing Co       |micro       |1716 Topeka St       |NULL     |NULL     |Norman        |Oklahoma      |73069-8224 |United States|-97.46818222      |35.25738891      |4058160490|http://www.405brewing.com   |Oklahoma  |1716 Topeka St       |\n",
            "|9c5a66c8-cc13-416f-a5d9-0a769c87d318|(512) Brewing Co       |micro       |407 Radam Ln Ste F200|NULL     |NULL     |Austin        |Texas         |78745-1197 |United States|NULL              |NULL             |5129211545|http://www.512brewing.com   |Texas     |407 Radam Ln Ste F200|\n",
            "|34e8c68b-6146-453f-a4b9-1f6cd99a5ada|1 of Us Brewing Company|micro       |8100 Washington Ave  |NULL     |NULL     |Mount Pleasant|Wisconsin     |53406-3920 |United States|-87.88336350209435|42.72010826899558|2624847553|https://www.1ofusbrewing.com|Wisconsin |8100 Washington Ave  |\n",
            "|ef970757-fe42-416f-931d-722451f1f59c|10 Barrel Brewing Co   |large       |1501 E St            |NULL     |NULL     |San Diego     |California    |92101-6618 |United States|-117.129593       |32.714813        |6195782311|http://10barrel.com         |California|1501 E St            |\n",
            "|6d14b220-8926-4521-8d19-b98a2d6ec3db|10 Barrel Brewing Co   |large       |62970 18th St        |NULL     |NULL     |Bend          |Oregon        |97701-9847 |United States|-121.281706       |44.08683531      |5415851007|http://www.10barrel.com     |Oregon    |62970 18th St        |\n",
            "+------------------------------------+-----------------------+------------+---------------------+---------+---------+--------------+--------------+-----------+-------------+------------------+-----------------+----------+----------------------------+----------+---------------------+\n",
            "only showing top 5 rows\n",
            "\n"
          ]
        }
      ]
    },
    {
      "cell_type": "code",
      "source": [
        "df_br_data.printSchema()"
      ],
      "metadata": {
        "colab": {
          "base_uri": "https://localhost:8080/"
        },
        "id": "Bbq6FGsEna3R",
        "outputId": "1462ec8a-11d5-4ea0-fbe2-5223332a4669"
      },
      "execution_count": 100,
      "outputs": [
        {
          "output_type": "stream",
          "name": "stdout",
          "text": [
            "root\n",
            " |-- id: string (nullable = true)\n",
            " |-- name: string (nullable = true)\n",
            " |-- brewery_type: string (nullable = true)\n",
            " |-- address_1: string (nullable = true)\n",
            " |-- address_2: string (nullable = true)\n",
            " |-- address_3: integer (nullable = true)\n",
            " |-- city: string (nullable = true)\n",
            " |-- state_province: string (nullable = true)\n",
            " |-- postal_code: string (nullable = true)\n",
            " |-- country: string (nullable = true)\n",
            " |-- longitude: string (nullable = true)\n",
            " |-- latitude: string (nullable = true)\n",
            " |-- phone: string (nullable = true)\n",
            " |-- website_url: string (nullable = true)\n",
            " |-- state: string (nullable = true)\n",
            " |-- street: string (nullable = true)\n",
            "\n"
          ]
        }
      ]
    },
    {
      "cell_type": "markdown",
      "source": [
        "Exploração dos campos de localização, pois alguns veiram faltando."
      ],
      "metadata": {
        "id": "j--FoTkioEgP"
      }
    },
    {
      "cell_type": "code",
      "source": [
        "df_br_data.select(\"country\").distinct().show()"
      ],
      "metadata": {
        "colab": {
          "base_uri": "https://localhost:8080/"
        },
        "id": "oupYxRiUnbOt",
        "outputId": "46649b3e-573a-47da-907b-10c6aec3b92e"
      },
      "execution_count": 101,
      "outputs": [
        {
          "output_type": "stream",
          "name": "stdout",
          "text": [
            "+-------------+\n",
            "|      country|\n",
            "+-------------+\n",
            "|United States|\n",
            "|      Ireland|\n",
            "+-------------+\n",
            "\n"
          ]
        }
      ]
    },
    {
      "cell_type": "code",
      "source": [
        "# Aqui eu verifiquei que existem 3 id sem informação de endeço, em nenhum lugar, e vi que mais um id, possui algo estranho, como se não tivesse nome de rua,\n",
        "# vou investigar melhor depois que organizar os tres id faltantes.\n",
        "\n",
        "\n",
        "df_br_data.select(\"id\", \"address_1\", \"address_2\", \"address_3\", \"longitude\", \"latitude\").orderBy(col(\"address_1\").asc()).show(50, False)"
      ],
      "metadata": {
        "colab": {
          "base_uri": "https://localhost:8080/"
        },
        "id": "jucZqZSznbkR",
        "outputId": "1d043ba2-cdc2-485d-e311-9763a1029a97"
      },
      "execution_count": 102,
      "outputs": [
        {
          "output_type": "stream",
          "name": "stdout",
          "text": [
            "+------------------------------------+------------------------------+---------+---------+------------------+-----------------+\n",
            "|id                                  |address_1                     |address_2|address_3|longitude         |latitude         |\n",
            "+------------------------------------+------------------------------+---------+---------+------------------+-----------------+\n",
            "|0faa0fb2-fffa-416d-9eab-46f67477c8ef|NULL                          |NULL     |NULL     |-111.5860662      |33.436188        |\n",
            "|b7b68d22-5045-4501-b9bf-ec94946eaffc|NULL                          |NULL     |NULL     |NULL              |NULL             |\n",
            "|fe6b9893-b93e-43d5-a9f6-3e0c89a3f13c|NULL                          |NULL     |NULL     |-119.9036592      |37.570148        |\n",
            "|46839a79-b7bf-4733-b91b-ce116d062a57|100 B South Olive St          |NULL     |NULL     |-88.750264        |34.001703        |\n",
            "|4ffda196-dd59-44a5-9eeb-5f7fd4b58f5a|1043 Park St                  |NULL     |NULL     |-104.8667206      |39.38269495      |\n",
            "|84d621c4-81a5-44e6-aca7-1566c2e67cc0|11109 Plank Rd                |NULL     |NULL     |NULL              |NULL             |\n",
            "|f41a0c47-ba9b-4547-bfed-fcbefe0fc74b|1129 Irvin Garrish Hwy        |NULL     |NULL     |-75.97176063      |35.10715368      |\n",
            "|e2e78bd8-80ff-4a61-a65c-3bfbd9d76ce2|1135 NW Galveston Ave Ste B   |NULL     |NULL     |-121.3288021      |44.0575649       |\n",
            "|d35b40b0-a3ff-4878-a6ee-9caa2149b521|1146 colonel Joshua Ct        |NULL     |NULL     |NULL              |NULL             |\n",
            "|dbde8235-2b55-4d8b-8b1c-438155abe104|1301 S Chestnut St            |NULL     |NULL     |-89.0503635       |39.5172564       |\n",
            "|5ae467af-66dc-4d7f-8839-44228f89b596|1304 Scott St Ste D           |NULL     |NULL     |-122.665055       |38.27029381      |\n",
            "|5c53b314-ebab-4e3e-89be-e4139d9318ae|1323 Capital Blvd 1323 R and D|NULL     |NULL     |NULL              |NULL             |\n",
            "|6c53984f-fac1-4ea7-9c44-44e25897c71a|133 N Main St Ste 7           |NULL     |NULL     |NULL              |NULL             |\n",
            "|50521ef7-f543-4c5d-98b1-0d0ee1a2be01|141 E 4th St Ste LL2          |NULL     |NULL     |NULL              |NULL             |\n",
            "|58293321-14ae-49d7-9a7b-08436c9e63a6|141 E Main St                 |NULL     |NULL     |-118.9218754      |44.4146563       |\n",
            "|e432899b-7f58-455f-9c7b-9a6e2130a1e0|1411 NW Flanders St           |NULL     |NULL     |-122.6855056      |45.5259786       |\n",
            "|ef970757-fe42-416f-931d-722451f1f59c|1501 E St                     |NULL     |NULL     |-117.129593       |32.714813        |\n",
            "|5128df48-79fc-4f0f-8b52-d06be54d0cec|1716 Topeka St                |NULL     |NULL     |-97.46818222      |35.25738891      |\n",
            "|42aa37d5-8384-4ffe-8c81-7c982eff0384|2005 2nd Ave                  |NULL     |NULL     |-93.38952559      |45.19812039      |\n",
            "|896f26a1-d80e-4790-9287-026a86c1799d|2010 A State Ave              |NULL     |NULL     |-80.15020356      |40.50984957      |\n",
            "|4f4b5b34-d572-4dff-a18f-47e507c073e6|2045 N Forbes Blvd Ste 105    |NULL     |NULL     |-110.9927505      |32.24673727      |\n",
            "|e54c2f02-acd6-4172-861d-fcfa54c8701a|2416 Meridian St              |NULL     |NULL     |-122.485982       |48.7621709       |\n",
            "|45119c56-345b-4adc-b481-c5cf7bfe98c4|250 Mill St, Suite PW3101     |NULL     |NULL     |NULL              |NULL             |\n",
            "|1988eb86-f0a2-4674-ba04-02454efa0d31|2620 Walnut St                |NULL     |NULL     |-104.9853655      |39.7592508       |\n",
            "|4b677b60-fef1-42e2-90ef-dadc1bd7fb06|2801 Walnut St                |NULL     |NULL     |-104.9839636      |39.7614112       |\n",
            "|03118499-a3d0-4c22-860d-4529509ae095|294793 US Highway 101         |NULL     |NULL     |-122.8755823      |47.82347577      |\n",
            "|fb94830f-6196-4f59-9189-c9060b778085|3000 E Ray Rd Bldg 6          |NULL     |NULL     |NULL              |NULL             |\n",
            "|d5cb896d-3e99-4e19-9693-5e06ce987e53|3090 Shirley Dr               |NULL     |NULL     |-84.43116792      |42.28667212      |\n",
            "|4788221a-a03b-458c-9084-4cadd69ade6d|31125 Via Colinas Ste 907     |NULL     |NULL     |-118.802397       |34.15334         |\n",
            "|84bd3b3c-bd2d-4e07-bc31-b43a8c8ebf4c|322 E Court Ave               |NULL     |NULL     |-93.6120353       |41.5872267       |\n",
            "|1a1b2165-73ed-40aa-b89b-56794d140f22|342 E Ward St                 |NULL     |NULL     |-87.90606942      |43.00436242      |\n",
            "|7531dbd8-afc9-4b5b-95bc-7ece7f2c0bf3|400 Brown Cir                 |NULL     |NULL     |-86.627954        |41.289715        |\n",
            "|9c5a66c8-cc13-416f-a5d9-0a769c87d318|407 Radam Ln Ste F200         |NULL     |NULL     |NULL              |NULL             |\n",
            "|284b44f8-6ccb-4cd6-8d06-f2ad882a47c3|413 S Bedford St              |NULL     |NULL     |-75.37816436      |38.6788938       |\n",
            "|1ecc330f-6275-42a5-b14e-00adbed62752|490 Mill St                   |NULL     |NULL     |-119.7732015      |39.5171702       |\n",
            "|232e8f62-9afc-45f5-b4bc-582c26b5c43b|491 Washington St             |NULL     |NULL     |-70.94594149      |42.10591754      |\n",
            "|add7f978-942e-4d56-b209-c80837a51d69|5417 Oakley Ave               |NULL     |NULL     |-87.517422        |41.61556796      |\n",
            "|b51f3cdf-60ff-4ae1-94a7-76906c7d62eb|5725 Miller Ave               |NULL     |NULL     |-87.26887786      |41.59928343      |\n",
            "|9f1852da-c312-42da-9a31-097bac81c4c0|62950 NE 18th St              |NULL     |NULL     |-121.2809536      |44.0912109       |\n",
            "|6d14b220-8926-4521-8d19-b98a2d6ec3db|62970 18th St                 |NULL     |NULL     |-121.281706       |44.08683531      |\n",
            "|936c3d7e-5d54-4459-b72c-117cdda059b4|6410 SE Milwaukie Ave         |NULL     |NULL     |-122.6487531      |45.4762536       |\n",
            "|08f78223-24f8-4b71-b381-ea19a5bd82df|6820 Bourgeois Rd             |NULL     |NULL     |-95.5186591       |29.9515464       |\n",
            "|950180bd-29c9-46b3-ad0c-e6f09799ec7f|7391 Forbes Rd                |NULL     |NULL     |-84.70634815      |39.12639764      |\n",
            "|85192a9c-58a4-48c3-bd9d-496d09d22aa3|753 Reading Rd                |NULL     |NULL     |-84.3183801       |39.3545967       |\n",
            "|d81ff708-b5d2-478f-af6a-6d40f5beb9ac|80 Earhart Dr Ste 20          |NULL     |NULL     |NULL              |NULL             |\n",
            "|34e8c68b-6146-453f-a4b9-1f6cd99a5ada|8100 Washington Ave           |NULL     |NULL     |-87.88336350209435|42.72010826899558|\n",
            "|06e9fffb-e820-45c9-b107-b52b51013e8f|820 Main St                   |NULL     |NULL     |-105.1319826      |39.9782443       |\n",
            "|ea4f30c0-bce6-416b-8904-fab4055a7362|826 W Bannock St              |NULL     |NULL     |-116.202929       |43.618516        |\n",
            "|ee6d39c6-092f-4623-8099-5b8643f70dbe|9542 Main St                  |NULL     |NULL     |-75.2565195       |43.24211175      |\n",
            "|e5f3e72a-fee2-4813-82cf-f2e53b439ae6|Unnamed Street                |Clonmore |NULL     |-6.979343891      |52.84930763      |\n",
            "+------------------------------------+------------------------------+---------+---------+------------------+-----------------+\n",
            "\n"
          ]
        }
      ]
    },
    {
      "cell_type": "code",
      "source": [
        "#df_br_data.select(\"address_1\").distinct().orderBy(col(\"address_1\").asc()).show(50, False)\n",
        "#df_br_data.select(\"address_2\").distinct().orderBy(col(\"address_1\").asc()).show(50, False)\n",
        "df_br_data.select(\"address_3\").distinct().orderBy(col(\"address_1\").asc()).show(50, False)"
      ],
      "metadata": {
        "colab": {
          "base_uri": "https://localhost:8080/"
        },
        "id": "K9t3dJfcnb2L",
        "outputId": "97abca21-0c16-4ce2-9a5c-43525baca17a"
      },
      "execution_count": 103,
      "outputs": [
        {
          "output_type": "stream",
          "name": "stdout",
          "text": [
            "+---------+\n",
            "|address_3|\n",
            "+---------+\n",
            "|NULL     |\n",
            "+---------+\n",
            "\n"
          ]
        }
      ]
    },
    {
      "cell_type": "code",
      "source": [
        "df_dup_add1 = (df_br_data.select(\"id\", \"address_1\", \"address_2\", \"address_3\")\n",
        "                .groupBy([\"address_1\", \"address_2\", \"address_3\"])\n",
        "                    .count()\n",
        "                        .where('count > 1')\n",
        "                        .sort('count', ascending=False)\n",
        "               )\n"
      ],
      "metadata": {
        "id": "H322TwCLncQd"
      },
      "execution_count": 104,
      "outputs": []
    },
    {
      "cell_type": "code",
      "source": [
        "df_dup_add1.show()"
      ],
      "metadata": {
        "colab": {
          "base_uri": "https://localhost:8080/"
        },
        "id": "4iqRRAVZncjB",
        "outputId": "3f7b6b5c-f06c-4b01-d9e3-6f2b5e3150a1"
      },
      "execution_count": 83,
      "outputs": [
        {
          "output_type": "stream",
          "name": "stdout",
          "text": [
            "+---------+---------+---------+-----+\n",
            "|address_1|address_2|address_3|count|\n",
            "+---------+---------+---------+-----+\n",
            "|     NULL|     NULL|     NULL|    3|\n",
            "+---------+---------+---------+-----+\n",
            "\n"
          ]
        }
      ]
    },
    {
      "cell_type": "code",
      "source": [
        "df_null_add = (df_br_data.select(\"*\")\n",
        "                .filter(col(\"id\").isin(\"0faa0fb2-fffa-416d-9eab-46f67477c8ef\", \"b7b68d22-5045-4501-b9bf-ec94946eaffc\", \"fe6b9893-b93e-43d5-a9f6-3e0c89a3f13c\"))\n",
        "               )"
      ],
      "metadata": {
        "id": "Jz7xR7d2ndAz"
      },
      "execution_count": 105,
      "outputs": []
    },
    {
      "cell_type": "code",
      "source": [
        "df_null_add.show(3, False)"
      ],
      "metadata": {
        "colab": {
          "base_uri": "https://localhost:8080/"
        },
        "id": "XkEOwuMundma",
        "outputId": "5b151123-dfc1-42cc-ce78-b6b59f147708"
      },
      "execution_count": 106,
      "outputs": [
        {
          "output_type": "stream",
          "name": "stdout",
          "text": [
            "+------------------------------------+---------------------------------------------+------------+---------+---------+---------+---------+--------------+-----------+-------------+------------+---------+----------+-----------------------------+----------+------+\n",
            "|id                                  |name                                         |brewery_type|address_1|address_2|address_3|city     |state_province|postal_code|country      |longitude   |latitude |phone     |website_url                  |state     |street|\n",
            "+------------------------------------+---------------------------------------------+------------+---------+---------+---------+---------+--------------+-----------+-------------+------------+---------+----------+-----------------------------+----------+------+\n",
            "|0faa0fb2-fffa-416d-9eab-46f67477c8ef|12 West Brewing Company - Production Facility|micro       |NULL     |NULL     |NULL     |Mesa     |Arizona       |85207      |United States|-111.5860662|33.436188|NULL      |NULL                         |Arizona   |NULL  |\n",
            "|b7b68d22-5045-4501-b9bf-ec94946eaffc|14 Lakes Brewery                             |micro       |NULL     |NULL     |NULL     |Crosslake|Minnesota     |56442      |United States|NULL        |NULL     |2186924129|NULL                         |Minnesota |NULL  |\n",
            "|fe6b9893-b93e-43d5-a9f6-3e0c89a3f13c|1850 Brewing Company                         |micro       |NULL     |NULL     |NULL     |Mariposa |California    |95338      |United States|-119.9036592|37.570148|NULL      |http://www.1850restaurant.com|California|NULL  |\n",
            "+------------------------------------+---------------------------------------------+------------+---------+---------+---------+---------+--------------+-----------+-------------+------------+---------+----------+-----------------------------+----------+------+\n",
            "\n"
          ]
        }
      ]
    },
    {
      "cell_type": "code",
      "source": [
        "df_att = df_br_data.withColumn(\"address_1\", when(col(\"id\") == \"0faa0fb2-fffa-416d-9eab-46f67477c8ef\", \"12 W Main St\").otherwise(col(\"address_1\")))"
      ],
      "metadata": {
        "id": "2JCJVG1Tnd9B"
      },
      "execution_count": 107,
      "outputs": []
    },
    {
      "cell_type": "markdown",
      "source": [
        "### Alteraçao do campo \"address_1\" nas lojas faltantes."
      ],
      "metadata": {
        "id": "EmMPsRsM0L-V"
      }
    },
    {
      "cell_type": "code",
      "source": [
        "df_br_att = df_br_data.withColumn(\n",
        "    \"address_1\",\n",
        "    when(col(\"id\") == \"0faa0fb2-fffa-416d-9eab-46f67477c8ef\", \"12 W Main St\")\n",
        "    .when(col(\"id\") == \"b7b68d22-5045-4501-b9bf-ec94946eaffc\", \"36846 Co Hwy 66\")\n",
        "    .when(col(\"id\") == \"fe6b9893-b93e-43d5-a9f6-3e0c89a3f13c\", \"5114 Yosemite All-Year Hwy\")\n",
        "    .otherwise(col(\"address_1\"))\n",
        ")"
      ],
      "metadata": {
        "id": "R9P2d4V-wrCV"
      },
      "execution_count": 108,
      "outputs": []
    },
    {
      "cell_type": "code",
      "source": [
        "df_br_att.select(\"*\").filter(col(\"id\").isin(\"0faa0fb2-fffa-416d-9eab-46f67477c8ef\", \"b7b68d22-5045-4501-b9bf-ec94946eaffc\", \"fe6b9893-b93e-43d5-a9f6-3e0c89a3f13c\"))\n"
      ],
      "metadata": {
        "colab": {
          "base_uri": "https://localhost:8080/",
          "height": 239
        },
        "id": "ahtAJRjPneOr",
        "outputId": "8e65a88b-c8a2-423a-fe86-5bb468b3f73f"
      },
      "execution_count": 109,
      "outputs": [
        {
          "output_type": "execute_result",
          "data": {
            "text/plain": [
              "+--------------------+--------------------+------------+--------------------+---------+---------+---------+--------------+-----------+-------------+------------+---------+----------+--------------------+----------+------+\n",
              "|                  id|                name|brewery_type|           address_1|address_2|address_3|     city|state_province|postal_code|      country|   longitude| latitude|     phone|         website_url|     state|street|\n",
              "+--------------------+--------------------+------------+--------------------+---------+---------+---------+--------------+-----------+-------------+------------+---------+----------+--------------------+----------+------+\n",
              "|0faa0fb2-fffa-416...|12 West Brewing C...|       micro|        12 W Main St|     NULL|     NULL|     Mesa|       Arizona|      85207|United States|-111.5860662|33.436188|      NULL|                NULL|   Arizona|  NULL|\n",
              "|b7b68d22-5045-450...|    14 Lakes Brewery|       micro|     36846 Co Hwy 66|     NULL|     NULL|Crosslake|     Minnesota|      56442|United States|        NULL|     NULL|2186924129|                NULL| Minnesota|  NULL|\n",
              "|fe6b9893-b93e-43d...|1850 Brewing Company|       micro|5114 Yosemite All...|     NULL|     NULL| Mariposa|    California|      95338|United States|-119.9036592|37.570148|      NULL|http://www.1850re...|California|  NULL|\n",
              "+--------------------+--------------------+------------+--------------------+---------+---------+---------+--------------+-----------+-------------+------------+---------+----------+--------------------+----------+------+"
            ],
            "text/html": [
              "<table border='1'>\n",
              "<tr><th>id</th><th>name</th><th>brewery_type</th><th>address_1</th><th>address_2</th><th>address_3</th><th>city</th><th>state_province</th><th>postal_code</th><th>country</th><th>longitude</th><th>latitude</th><th>phone</th><th>website_url</th><th>state</th><th>street</th></tr>\n",
              "<tr><td>0faa0fb2-fffa-416...</td><td>12 West Brewing C...</td><td>micro</td><td>12 W Main St</td><td>NULL</td><td>NULL</td><td>Mesa</td><td>Arizona</td><td>85207</td><td>United States</td><td>-111.5860662</td><td>33.436188</td><td>NULL</td><td>NULL</td><td>Arizona</td><td>NULL</td></tr>\n",
              "<tr><td>b7b68d22-5045-450...</td><td>14 Lakes Brewery</td><td>micro</td><td>36846 Co Hwy 66</td><td>NULL</td><td>NULL</td><td>Crosslake</td><td>Minnesota</td><td>56442</td><td>United States</td><td>NULL</td><td>NULL</td><td>2186924129</td><td>NULL</td><td>Minnesota</td><td>NULL</td></tr>\n",
              "<tr><td>fe6b9893-b93e-43d...</td><td>1850 Brewing Company</td><td>micro</td><td>5114 Yosemite All...</td><td>NULL</td><td>NULL</td><td>Mariposa</td><td>California</td><td>95338</td><td>United States</td><td>-119.9036592</td><td>37.570148</td><td>NULL</td><td>http://www.1850re...</td><td>California</td><td>NULL</td></tr>\n",
              "</table>\n"
            ]
          },
          "metadata": {},
          "execution_count": 109
        }
      ]
    },
    {
      "cell_type": "markdown",
      "source": [
        "### Alteraçao do campo \"longitude e latitude\" nas lojas faltantes."
      ],
      "metadata": {
        "id": "7MftmzfI0GWs"
      }
    },
    {
      "cell_type": "code",
      "source": [
        "df_br_att.select(\"id\", \"address_1\", \"address_2\", \"address_3\", \"latitude\", \"longitude\").orderBy(col(\"address_1\").asc()).show(50, False)"
      ],
      "metadata": {
        "colab": {
          "base_uri": "https://localhost:8080/"
        },
        "id": "oNY42e5s0qI5",
        "outputId": "9d586705-1985-4941-9a4f-06fc368ca4f5"
      },
      "execution_count": 110,
      "outputs": [
        {
          "output_type": "stream",
          "name": "stdout",
          "text": [
            "+------------------------------------+------------------------------+---------+---------+-----------------+------------------+\n",
            "|id                                  |address_1                     |address_2|address_3|latitude         |longitude         |\n",
            "+------------------------------------+------------------------------+---------+---------+-----------------+------------------+\n",
            "|46839a79-b7bf-4733-b91b-ce116d062a57|100 B South Olive St          |NULL     |NULL     |34.001703        |-88.750264        |\n",
            "|4ffda196-dd59-44a5-9eeb-5f7fd4b58f5a|1043 Park St                  |NULL     |NULL     |39.38269495      |-104.8667206      |\n",
            "|84d621c4-81a5-44e6-aca7-1566c2e67cc0|11109 Plank Rd                |NULL     |NULL     |NULL             |NULL              |\n",
            "|f41a0c47-ba9b-4547-bfed-fcbefe0fc74b|1129 Irvin Garrish Hwy        |NULL     |NULL     |35.10715368      |-75.97176063      |\n",
            "|e2e78bd8-80ff-4a61-a65c-3bfbd9d76ce2|1135 NW Galveston Ave Ste B   |NULL     |NULL     |44.0575649       |-121.3288021      |\n",
            "|d35b40b0-a3ff-4878-a6ee-9caa2149b521|1146 colonel Joshua Ct        |NULL     |NULL     |NULL             |NULL              |\n",
            "|0faa0fb2-fffa-416d-9eab-46f67477c8ef|12 W Main St                  |NULL     |NULL     |33.436188        |-111.5860662      |\n",
            "|dbde8235-2b55-4d8b-8b1c-438155abe104|1301 S Chestnut St            |NULL     |NULL     |39.5172564       |-89.0503635       |\n",
            "|5ae467af-66dc-4d7f-8839-44228f89b596|1304 Scott St Ste D           |NULL     |NULL     |38.27029381      |-122.665055       |\n",
            "|5c53b314-ebab-4e3e-89be-e4139d9318ae|1323 Capital Blvd 1323 R and D|NULL     |NULL     |NULL             |NULL              |\n",
            "|6c53984f-fac1-4ea7-9c44-44e25897c71a|133 N Main St Ste 7           |NULL     |NULL     |NULL             |NULL              |\n",
            "|50521ef7-f543-4c5d-98b1-0d0ee1a2be01|141 E 4th St Ste LL2          |NULL     |NULL     |NULL             |NULL              |\n",
            "|58293321-14ae-49d7-9a7b-08436c9e63a6|141 E Main St                 |NULL     |NULL     |44.4146563       |-118.9218754      |\n",
            "|e432899b-7f58-455f-9c7b-9a6e2130a1e0|1411 NW Flanders St           |NULL     |NULL     |45.5259786       |-122.6855056      |\n",
            "|ef970757-fe42-416f-931d-722451f1f59c|1501 E St                     |NULL     |NULL     |32.714813        |-117.129593       |\n",
            "|5128df48-79fc-4f0f-8b52-d06be54d0cec|1716 Topeka St                |NULL     |NULL     |35.25738891      |-97.46818222      |\n",
            "|42aa37d5-8384-4ffe-8c81-7c982eff0384|2005 2nd Ave                  |NULL     |NULL     |45.19812039      |-93.38952559      |\n",
            "|896f26a1-d80e-4790-9287-026a86c1799d|2010 A State Ave              |NULL     |NULL     |40.50984957      |-80.15020356      |\n",
            "|4f4b5b34-d572-4dff-a18f-47e507c073e6|2045 N Forbes Blvd Ste 105    |NULL     |NULL     |32.24673727      |-110.9927505      |\n",
            "|e54c2f02-acd6-4172-861d-fcfa54c8701a|2416 Meridian St              |NULL     |NULL     |48.7621709       |-122.485982       |\n",
            "|45119c56-345b-4adc-b481-c5cf7bfe98c4|250 Mill St, Suite PW3101     |NULL     |NULL     |NULL             |NULL              |\n",
            "|1988eb86-f0a2-4674-ba04-02454efa0d31|2620 Walnut St                |NULL     |NULL     |39.7592508       |-104.9853655      |\n",
            "|4b677b60-fef1-42e2-90ef-dadc1bd7fb06|2801 Walnut St                |NULL     |NULL     |39.7614112       |-104.9839636      |\n",
            "|03118499-a3d0-4c22-860d-4529509ae095|294793 US Highway 101         |NULL     |NULL     |47.82347577      |-122.8755823      |\n",
            "|fb94830f-6196-4f59-9189-c9060b778085|3000 E Ray Rd Bldg 6          |NULL     |NULL     |NULL             |NULL              |\n",
            "|d5cb896d-3e99-4e19-9693-5e06ce987e53|3090 Shirley Dr               |NULL     |NULL     |42.28667212      |-84.43116792      |\n",
            "|4788221a-a03b-458c-9084-4cadd69ade6d|31125 Via Colinas Ste 907     |NULL     |NULL     |34.15334         |-118.802397       |\n",
            "|84bd3b3c-bd2d-4e07-bc31-b43a8c8ebf4c|322 E Court Ave               |NULL     |NULL     |41.5872267       |-93.6120353       |\n",
            "|1a1b2165-73ed-40aa-b89b-56794d140f22|342 E Ward St                 |NULL     |NULL     |43.00436242      |-87.90606942      |\n",
            "|b7b68d22-5045-4501-b9bf-ec94946eaffc|36846 Co Hwy 66               |NULL     |NULL     |NULL             |NULL              |\n",
            "|7531dbd8-afc9-4b5b-95bc-7ece7f2c0bf3|400 Brown Cir                 |NULL     |NULL     |41.289715        |-86.627954        |\n",
            "|9c5a66c8-cc13-416f-a5d9-0a769c87d318|407 Radam Ln Ste F200         |NULL     |NULL     |NULL             |NULL              |\n",
            "|284b44f8-6ccb-4cd6-8d06-f2ad882a47c3|413 S Bedford St              |NULL     |NULL     |38.6788938       |-75.37816436      |\n",
            "|1ecc330f-6275-42a5-b14e-00adbed62752|490 Mill St                   |NULL     |NULL     |39.5171702       |-119.7732015      |\n",
            "|232e8f62-9afc-45f5-b4bc-582c26b5c43b|491 Washington St             |NULL     |NULL     |42.10591754      |-70.94594149      |\n",
            "|fe6b9893-b93e-43d5-a9f6-3e0c89a3f13c|5114 Yosemite All-Year Hwy    |NULL     |NULL     |37.570148        |-119.9036592      |\n",
            "|add7f978-942e-4d56-b209-c80837a51d69|5417 Oakley Ave               |NULL     |NULL     |41.61556796      |-87.517422        |\n",
            "|b51f3cdf-60ff-4ae1-94a7-76906c7d62eb|5725 Miller Ave               |NULL     |NULL     |41.59928343      |-87.26887786      |\n",
            "|9f1852da-c312-42da-9a31-097bac81c4c0|62950 NE 18th St              |NULL     |NULL     |44.0912109       |-121.2809536      |\n",
            "|6d14b220-8926-4521-8d19-b98a2d6ec3db|62970 18th St                 |NULL     |NULL     |44.08683531      |-121.281706       |\n",
            "|936c3d7e-5d54-4459-b72c-117cdda059b4|6410 SE Milwaukie Ave         |NULL     |NULL     |45.4762536       |-122.6487531      |\n",
            "|08f78223-24f8-4b71-b381-ea19a5bd82df|6820 Bourgeois Rd             |NULL     |NULL     |29.9515464       |-95.5186591       |\n",
            "|950180bd-29c9-46b3-ad0c-e6f09799ec7f|7391 Forbes Rd                |NULL     |NULL     |39.12639764      |-84.70634815      |\n",
            "|85192a9c-58a4-48c3-bd9d-496d09d22aa3|753 Reading Rd                |NULL     |NULL     |39.3545967       |-84.3183801       |\n",
            "|d81ff708-b5d2-478f-af6a-6d40f5beb9ac|80 Earhart Dr Ste 20          |NULL     |NULL     |NULL             |NULL              |\n",
            "|34e8c68b-6146-453f-a4b9-1f6cd99a5ada|8100 Washington Ave           |NULL     |NULL     |42.72010826899558|-87.88336350209435|\n",
            "|06e9fffb-e820-45c9-b107-b52b51013e8f|820 Main St                   |NULL     |NULL     |39.9782443       |-105.1319826      |\n",
            "|ea4f30c0-bce6-416b-8904-fab4055a7362|826 W Bannock St              |NULL     |NULL     |43.618516        |-116.202929       |\n",
            "|ee6d39c6-092f-4623-8099-5b8643f70dbe|9542 Main St                  |NULL     |NULL     |43.24211175      |-75.2565195       |\n",
            "|e5f3e72a-fee2-4813-82cf-f2e53b439ae6|Unnamed Street                |Clonmore |NULL     |52.84930763      |-6.979343891      |\n",
            "+------------------------------------+------------------------------+---------+---------+-----------------+------------------+\n",
            "\n"
          ]
        }
      ]
    },
    {
      "cell_type": "code",
      "source": [
        "df_br_att.select(\"*\").filter(col(\"id\").isin(\"b7b68d22-5045-4501-b9bf-ec94946eaffc\", \"84d621c4-81a5-44e6-aca7-1566c2e67cc0\",\n",
        "                                            \"d35b40b0-a3ff-4878-a6ee-9caa2149b521\", \"5c53b314-ebab-4e3e-89be-e4139d9318ae\",\n",
        "                                            \"50521ef7-f543-4c5d-98b1-0d0ee1a2be01\", \"45119c56-345b-4adc-b481-c5cf7bfe98c4\",\n",
        "                                            \"fb94830f-6196-4f59-9189-c9060b778085\", \"9c5a66c8-cc13-416f-a5d9-0a769c87d318\",\n",
        "                                            \"9c5a66c8-cc13-416f-a5d9-0a769c87d318\", \"d81ff708-b5d2-478f-af6a-6d40f5beb9ac\",\n",
        "                                            \"6c53984f-fac1-4ea7-9c44-44e25897c71a\")).show(11, False)\n"
      ],
      "metadata": {
        "colab": {
          "base_uri": "https://localhost:8080/"
        },
        "id": "BoTtz1Zr0eRe",
        "outputId": "68a4c310-db9c-4ab9-e598-9788b44a46b4"
      },
      "execution_count": 118,
      "outputs": [
        {
          "output_type": "stream",
          "name": "stdout",
          "text": [
            "+------------------------------------+------------------------+------------+------------------------------+---------+---------+-------------+--------------+-----------+-------------+------------+----------+----------+-------------------------------+--------------+------------------------------+\n",
            "|id                                  |name                    |brewery_type|address_1                     |address_2|address_3|city         |state_province|postal_code|country      |longitude   |latitude  |phone     |website_url                    |state         |street                        |\n",
            "+------------------------------------+------------------------+------------+------------------------------+---------+---------+-------------+--------------+-----------+-------------+------------+----------+----------+-------------------------------+--------------+------------------------------+\n",
            "|9c5a66c8-cc13-416f-a5d9-0a769c87d318|(512) Brewing Co        |micro       |407 Radam Ln Ste F200         |NULL     |NULL     |Austin       |Texas         |78745-1197 |United States|-97.7701612 |30.2232157|5129211545|http://www.512brewing.com      |Texas         |407 Radam Ln Ste F200         |\n",
            "|d81ff708-b5d2-478f-af6a-6d40f5beb9ac|12 Gates Brewing Company|brewpub     |80 Earhart Dr Ste 20          |NULL     |NULL     |Williamsville|New York      |14221-7804 |United States|-78.7127541 |42.9539343|7169066600|http://www.12gatesbrewing.com  |New York      |80 Earhart Dr Ste 20          |\n",
            "|fb94830f-6196-4f59-9189-c9060b778085|12 West Brewing Company |micro       |3000 E Ray Rd Bldg 6          |NULL     |NULL     |Gilbert      |Arizona       |85296-7832 |United States|-111.7267596|33.3219732|6023395014|http://www.12westbrewing.com   |Arizona       |3000 E Ray Rd Bldg 6          |\n",
            "|50521ef7-f543-4c5d-98b1-0d0ee1a2be01|12welve Eyes Brewing    |micro       |141 E 4th St Ste LL2          |NULL     |NULL     |Saint Paul   |Minnesota     |55101-1639 |United States|-93.0895051 |44.9477074|6514938106|http://www.12welveEyes.com     |Minnesota     |141 E 4th St Ste LL2          |\n",
            "|45119c56-345b-4adc-b481-c5cf7bfe98c4|13 Stripes Brewery      |brewpub     |250 Mill St, Suite PW3101     |NULL     |NULL     |Taylors      |South Carolina|29687      |United States|-82.2846578 |34.9206198|8643491430|http://www.13StripesBrewery.com|South Carolina|250 Mill St, Suite PW3101     |\n",
            "|5c53b314-ebab-4e3e-89be-e4139d9318ae|1323 R & D              |micro       |1323 Capital Blvd 1323 R and D|NULL     |NULL     |Raleigh      |North Carolina|27603-1117 |United States|-78.6345215 |35.8009165|9199775654|http://www.1323rnd.com         |North Carolina|1323 Capital Blvd 1323 R and D|\n",
            "|b7b68d22-5045-4501-b9bf-ec94946eaffc|14 Lakes Brewery        |micro       |36846 Co Hwy 66               |NULL     |NULL     |Crosslake    |Minnesota     |56442      |United States|-94.1123597 |46.6876583|2186924129|NULL                           |Minnesota     |NULL                          |\n",
            "|6c53984f-fac1-4ea7-9c44-44e25897c71a|14th Star Brewing       |micro       |133 N Main St Ste 7           |NULL     |NULL     |Saint Albans |Vermont       |05478-1735 |United States|NULL        |NULL      |8025285988|http://www.14thstarbrewing.com |Vermont       |133 N Main St Ste 7           |\n",
            "|d35b40b0-a3ff-4878-a6ee-9caa2149b521|1623 Brewing CO, llc    |contract    |1146 colonel Joshua Ct        |NULL     |NULL     |Westminister |Maryland      |21157      |United States|-76.9773789 |39.4171642|NULL      |NULL                           |Maryland      |1146 colonel Joshua Ct        |\n",
            "|84d621c4-81a5-44e6-aca7-1566c2e67cc0|1781 Brewing Company    |micro       |11109 Plank Rd                |NULL     |NULL     |Spotsylvania |Virginia      |22553-4258 |United States|-77.7187148 |38.3279312|5408412598|NULL                           |Virginia      |11109 Plank Rd                |\n",
            "+------------------------------------+------------------------+------------+------------------------------+---------+---------+-------------+--------------+-----------+-------------+------------+----------+----------+-------------------------------+--------------+------------------------------+\n",
            "\n"
          ]
        }
      ]
    },
    {
      "cell_type": "code",
      "source": [
        "#Alteraçao dos endereços \"address_1\" nas lojas faltantes.\n",
        "df_br_att = df_br_att.withColumn(\n",
        "    \"latitude\",\n",
        "     when(col(\"id\") == \"9c5a66c8-cc13-416f-a5d9-0a769c87d318\", \"30.2232157\")\n",
        "    .when(col(\"id\") == \"d81ff708-b5d2-478f-af6a-6d40f5beb9ac\", \"42.9539343\")\n",
        "    .when(col(\"id\") == \"fb94830f-6196-4f59-9189-c9060b778085\", \"33.3219732\")\n",
        "    .when(col(\"id\") == \"50521ef7-f543-4c5d-98b1-0d0ee1a2be01\", \"44.9477074\")\n",
        "    .when(col(\"id\") == \"45119c56-345b-4adc-b481-c5cf7bfe98c4\", \"34.9206198\")\n",
        "    .when(col(\"id\") == \"5c53b314-ebab-4e3e-89be-e4139d9318ae\", \"35.8009165\")\n",
        "    .when(col(\"id\") == \"b7b68d22-5045-4501-b9bf-ec94946eaffc\", \"46.6876583\")\n",
        "    .when(col(\"id\") == \"d35b40b0-a3ff-4878-a6ee-9caa2149b521\", \"39.4171642\")\n",
        "    .when(col(\"id\") == \"84d621c4-81a5-44e6-aca7-1566c2e67cc0\", \"38.3279312\")\n",
        "    .when(col(\"id\") == \"6c53984f-fac1-4ea7-9c44-44e25897c71a\", \"44.8149712\")\n",
        "    .otherwise(col(\"latitude\"))\n",
        ")"
      ],
      "metadata": {
        "id": "buApav2rzfoj"
      },
      "execution_count": 119,
      "outputs": []
    },
    {
      "cell_type": "code",
      "source": [
        "df_br_att.select(\"*\").filter(col(\"id\").isin(\"b7b68d22-5045-4501-b9bf-ec94946eaffc\", \"84d621c4-81a5-44e6-aca7-1566c2e67cc0\",\n",
        "                                            \"d35b40b0-a3ff-4878-a6ee-9caa2149b521\", \"5c53b314-ebab-4e3e-89be-e4139d9318ae\",\n",
        "                                            \"50521ef7-f543-4c5d-98b1-0d0ee1a2be01\", \"45119c56-345b-4adc-b481-c5cf7bfe98c4\",\n",
        "                                            \"fb94830f-6196-4f59-9189-c9060b778085\", \"9c5a66c8-cc13-416f-a5d9-0a769c87d318\",\n",
        "                                            \"9c5a66c8-cc13-416f-a5d9-0a769c87d318\", \"d81ff708-b5d2-478f-af6a-6d40f5beb9ac\",\n",
        "                                            \"6c53984f-fac1-4ea7-9c44-44e25897c71a\")).show(11, False)"
      ],
      "metadata": {
        "colab": {
          "base_uri": "https://localhost:8080/"
        },
        "id": "bP0dWVuA9Amr",
        "outputId": "209f9ddc-d024-432e-f56c-fadfb24baf27"
      },
      "execution_count": 120,
      "outputs": [
        {
          "output_type": "stream",
          "name": "stdout",
          "text": [
            "+------------------------------------+------------------------+------------+------------------------------+---------+---------+-------------+--------------+-----------+-------------+------------+----------+----------+-------------------------------+--------------+------------------------------+\n",
            "|id                                  |name                    |brewery_type|address_1                     |address_2|address_3|city         |state_province|postal_code|country      |longitude   |latitude  |phone     |website_url                    |state         |street                        |\n",
            "+------------------------------------+------------------------+------------+------------------------------+---------+---------+-------------+--------------+-----------+-------------+------------+----------+----------+-------------------------------+--------------+------------------------------+\n",
            "|9c5a66c8-cc13-416f-a5d9-0a769c87d318|(512) Brewing Co        |micro       |407 Radam Ln Ste F200         |NULL     |NULL     |Austin       |Texas         |78745-1197 |United States|-97.7701612 |30.2232157|5129211545|http://www.512brewing.com      |Texas         |407 Radam Ln Ste F200         |\n",
            "|d81ff708-b5d2-478f-af6a-6d40f5beb9ac|12 Gates Brewing Company|brewpub     |80 Earhart Dr Ste 20          |NULL     |NULL     |Williamsville|New York      |14221-7804 |United States|-78.7127541 |42.9539343|7169066600|http://www.12gatesbrewing.com  |New York      |80 Earhart Dr Ste 20          |\n",
            "|fb94830f-6196-4f59-9189-c9060b778085|12 West Brewing Company |micro       |3000 E Ray Rd Bldg 6          |NULL     |NULL     |Gilbert      |Arizona       |85296-7832 |United States|-111.7267596|33.3219732|6023395014|http://www.12westbrewing.com   |Arizona       |3000 E Ray Rd Bldg 6          |\n",
            "|50521ef7-f543-4c5d-98b1-0d0ee1a2be01|12welve Eyes Brewing    |micro       |141 E 4th St Ste LL2          |NULL     |NULL     |Saint Paul   |Minnesota     |55101-1639 |United States|-93.0895051 |44.9477074|6514938106|http://www.12welveEyes.com     |Minnesota     |141 E 4th St Ste LL2          |\n",
            "|45119c56-345b-4adc-b481-c5cf7bfe98c4|13 Stripes Brewery      |brewpub     |250 Mill St, Suite PW3101     |NULL     |NULL     |Taylors      |South Carolina|29687      |United States|-82.2846578 |34.9206198|8643491430|http://www.13StripesBrewery.com|South Carolina|250 Mill St, Suite PW3101     |\n",
            "|5c53b314-ebab-4e3e-89be-e4139d9318ae|1323 R & D              |micro       |1323 Capital Blvd 1323 R and D|NULL     |NULL     |Raleigh      |North Carolina|27603-1117 |United States|-78.6345215 |35.8009165|9199775654|http://www.1323rnd.com         |North Carolina|1323 Capital Blvd 1323 R and D|\n",
            "|b7b68d22-5045-4501-b9bf-ec94946eaffc|14 Lakes Brewery        |micro       |36846 Co Hwy 66               |NULL     |NULL     |Crosslake    |Minnesota     |56442      |United States|-94.1123597 |46.6876583|2186924129|NULL                           |Minnesota     |NULL                          |\n",
            "|6c53984f-fac1-4ea7-9c44-44e25897c71a|14th Star Brewing       |micro       |133 N Main St Ste 7           |NULL     |NULL     |Saint Albans |Vermont       |05478-1735 |United States|NULL        |44.8149712|8025285988|http://www.14thstarbrewing.com |Vermont       |133 N Main St Ste 7           |\n",
            "|d35b40b0-a3ff-4878-a6ee-9caa2149b521|1623 Brewing CO, llc    |contract    |1146 colonel Joshua Ct        |NULL     |NULL     |Westminister |Maryland      |21157      |United States|-76.9773789 |39.4171642|NULL      |NULL                           |Maryland      |1146 colonel Joshua Ct        |\n",
            "|84d621c4-81a5-44e6-aca7-1566c2e67cc0|1781 Brewing Company    |micro       |11109 Plank Rd                |NULL     |NULL     |Spotsylvania |Virginia      |22553-4258 |United States|-77.7187148 |38.3279312|5408412598|NULL                           |Virginia      |11109 Plank Rd                |\n",
            "+------------------------------------+------------------------+------------+------------------------------+---------+---------+-------------+--------------+-----------+-------------+------------+----------+----------+-------------------------------+--------------+------------------------------+\n",
            "\n"
          ]
        }
      ]
    },
    {
      "cell_type": "code",
      "source": [
        "df_br_att = df_br_att.withColumn(\n",
        "    \"longitude\",\n",
        "     when(col(\"id\") == \"9c5a66c8-cc13-416f-a5d9-0a769c87d318\", \"-97.7701612\")\n",
        "    .when(col(\"id\") == \"d81ff708-b5d2-478f-af6a-6d40f5beb9ac\", \"-78.7127541\")\n",
        "    .when(col(\"id\") == \"fb94830f-6196-4f59-9189-c9060b778085\", \"-111.7267596\")\n",
        "    .when(col(\"id\") == \"50521ef7-f543-4c5d-98b1-0d0ee1a2be01\", \"-93.0895051\")\n",
        "    .when(col(\"id\") == \"45119c56-345b-4adc-b481-c5cf7bfe98c4\", \"-82.2846578\")\n",
        "    .when(col(\"id\") == \"5c53b314-ebab-4e3e-89be-e4139d9318ae\", \"-78.6345215\")\n",
        "    .when(col(\"id\") == \"b7b68d22-5045-4501-b9bf-ec94946eaffc\", \"-94.1123597\")\n",
        "    .when(col(\"id\") == \"d35b40b0-a3ff-4878-a6ee-9caa2149b521\", \"-76.9773789\")\n",
        "    .when(col(\"id\") == \"84d621c4-81a5-44e6-aca7-1566c2e67cc0\", \"-77.7187148\")\n",
        "    .when(col(\"id\") == \"6c53984f-fac1-4ea7-9c44-44e25897c71a\", \"-73.0816367\")\n",
        "    .otherwise(col(\"longitude\"))\n",
        ")"
      ],
      "metadata": {
        "id": "3b7UZpVi81OJ"
      },
      "execution_count": 121,
      "outputs": []
    },
    {
      "cell_type": "code",
      "source": [
        "df_br_att.select(\"*\").filter(col(\"id\").isin(\"b7b68d22-5045-4501-b9bf-ec94946eaffc\", \"84d621c4-81a5-44e6-aca7-1566c2e67cc0\",\n",
        "                                            \"d35b40b0-a3ff-4878-a6ee-9caa2149b521\", \"5c53b314-ebab-4e3e-89be-e4139d9318ae\",\n",
        "                                            \"50521ef7-f543-4c5d-98b1-0d0ee1a2be01\", \"45119c56-345b-4adc-b481-c5cf7bfe98c4\",\n",
        "                                            \"fb94830f-6196-4f59-9189-c9060b778085\", \"9c5a66c8-cc13-416f-a5d9-0a769c87d318\",\n",
        "                                            \"9c5a66c8-cc13-416f-a5d9-0a769c87d318\", \"d81ff708-b5d2-478f-af6a-6d40f5beb9ac\",\n",
        "                                            \"6c53984f-fac1-4ea7-9c44-44e25897c71a\")).show(11, False)"
      ],
      "metadata": {
        "colab": {
          "base_uri": "https://localhost:8080/"
        },
        "id": "UuDZmh7H9PgH",
        "outputId": "a581eed9-9a2e-4659-d89c-39adfe67160f"
      },
      "execution_count": 122,
      "outputs": [
        {
          "output_type": "stream",
          "name": "stdout",
          "text": [
            "+------------------------------------+------------------------+------------+------------------------------+---------+---------+-------------+--------------+-----------+-------------+------------+----------+----------+-------------------------------+--------------+------------------------------+\n",
            "|id                                  |name                    |brewery_type|address_1                     |address_2|address_3|city         |state_province|postal_code|country      |longitude   |latitude  |phone     |website_url                    |state         |street                        |\n",
            "+------------------------------------+------------------------+------------+------------------------------+---------+---------+-------------+--------------+-----------+-------------+------------+----------+----------+-------------------------------+--------------+------------------------------+\n",
            "|9c5a66c8-cc13-416f-a5d9-0a769c87d318|(512) Brewing Co        |micro       |407 Radam Ln Ste F200         |NULL     |NULL     |Austin       |Texas         |78745-1197 |United States|-97.7701612 |30.2232157|5129211545|http://www.512brewing.com      |Texas         |407 Radam Ln Ste F200         |\n",
            "|d81ff708-b5d2-478f-af6a-6d40f5beb9ac|12 Gates Brewing Company|brewpub     |80 Earhart Dr Ste 20          |NULL     |NULL     |Williamsville|New York      |14221-7804 |United States|-78.7127541 |42.9539343|7169066600|http://www.12gatesbrewing.com  |New York      |80 Earhart Dr Ste 20          |\n",
            "|fb94830f-6196-4f59-9189-c9060b778085|12 West Brewing Company |micro       |3000 E Ray Rd Bldg 6          |NULL     |NULL     |Gilbert      |Arizona       |85296-7832 |United States|-111.7267596|33.3219732|6023395014|http://www.12westbrewing.com   |Arizona       |3000 E Ray Rd Bldg 6          |\n",
            "|50521ef7-f543-4c5d-98b1-0d0ee1a2be01|12welve Eyes Brewing    |micro       |141 E 4th St Ste LL2          |NULL     |NULL     |Saint Paul   |Minnesota     |55101-1639 |United States|-93.0895051 |44.9477074|6514938106|http://www.12welveEyes.com     |Minnesota     |141 E 4th St Ste LL2          |\n",
            "|45119c56-345b-4adc-b481-c5cf7bfe98c4|13 Stripes Brewery      |brewpub     |250 Mill St, Suite PW3101     |NULL     |NULL     |Taylors      |South Carolina|29687      |United States|-82.2846578 |34.9206198|8643491430|http://www.13StripesBrewery.com|South Carolina|250 Mill St, Suite PW3101     |\n",
            "|5c53b314-ebab-4e3e-89be-e4139d9318ae|1323 R & D              |micro       |1323 Capital Blvd 1323 R and D|NULL     |NULL     |Raleigh      |North Carolina|27603-1117 |United States|-78.6345215 |35.8009165|9199775654|http://www.1323rnd.com         |North Carolina|1323 Capital Blvd 1323 R and D|\n",
            "|b7b68d22-5045-4501-b9bf-ec94946eaffc|14 Lakes Brewery        |micro       |36846 Co Hwy 66               |NULL     |NULL     |Crosslake    |Minnesota     |56442      |United States|-94.1123597 |46.6876583|2186924129|NULL                           |Minnesota     |NULL                          |\n",
            "|6c53984f-fac1-4ea7-9c44-44e25897c71a|14th Star Brewing       |micro       |133 N Main St Ste 7           |NULL     |NULL     |Saint Albans |Vermont       |05478-1735 |United States|-73.0816367 |44.8149712|8025285988|http://www.14thstarbrewing.com |Vermont       |133 N Main St Ste 7           |\n",
            "|d35b40b0-a3ff-4878-a6ee-9caa2149b521|1623 Brewing CO, llc    |contract    |1146 colonel Joshua Ct        |NULL     |NULL     |Westminister |Maryland      |21157      |United States|-76.9773789 |39.4171642|NULL      |NULL                           |Maryland      |1146 colonel Joshua Ct        |\n",
            "|84d621c4-81a5-44e6-aca7-1566c2e67cc0|1781 Brewing Company    |micro       |11109 Plank Rd                |NULL     |NULL     |Spotsylvania |Virginia      |22553-4258 |United States|-77.7187148 |38.3279312|5408412598|NULL                           |Virginia      |11109 Plank Rd                |\n",
            "+------------------------------------+------------------------+------------+------------------------------+---------+---------+-------------+--------------+-----------+-------------+------------+----------+----------+-------------------------------+--------------+------------------------------+\n",
            "\n"
          ]
        }
      ]
    },
    {
      "cell_type": "code",
      "source": [
        "df_br_att.select(\"*\").filter(col(\"id\").isin(\"34e8c68b-6146-453f-a4b9-1f6cd99a5ada\")).show(1, False)"
      ],
      "metadata": {
        "colab": {
          "base_uri": "https://localhost:8080/"
        },
        "id": "7LsUTrgkAMgp",
        "outputId": "f85c79dc-005d-49a5-915f-62862b8c4ddc"
      },
      "execution_count": 126,
      "outputs": [
        {
          "output_type": "stream",
          "name": "stdout",
          "text": [
            "+------------------------------------+-----------------------+------------+-------------------+---------+---------+--------------+--------------+-----------+-------------+-----------+-----------------+----------+----------------------------+---------+-------------------+\n",
            "|id                                  |name                   |brewery_type|address_1          |address_2|address_3|city          |state_province|postal_code|country      |longitude  |latitude         |phone     |website_url                 |state    |street             |\n",
            "+------------------------------------+-----------------------+------------+-------------------+---------+---------+--------------+--------------+-----------+-------------+-----------+-----------------+----------+----------------------------+---------+-------------------+\n",
            "|34e8c68b-6146-453f-a4b9-1f6cd99a5ada|1 of Us Brewing Company|micro       |8100 Washington Ave|NULL     |NULL     |Mount Pleasant|Wisconsin     |53406-3920 |United States|-87.8833635|42.72010826899558|2624847553|https://www.1ofusbrewing.com|Wisconsin|8100 Washington Ave|\n",
            "+------------------------------------+-----------------------+------------+-------------------+---------+---------+--------------+--------------+-----------+-------------+-----------+-----------------+----------+----------------------------+---------+-------------------+\n",
            "\n"
          ]
        }
      ]
    },
    {
      "cell_type": "code",
      "source": [
        "#df_br_att = df_br_att.withColumn(\n",
        "#    \"longitude\",\n",
        "#     when(col(\"id\") == \"34e8c68b-6146-453f-a4b9-1f6cd99a5ada\", \"-87.8833635\")\n",
        "#    .otherwise(col(\"longitude\"))\n",
        "#)\n",
        "\n",
        "df_br_att = df_br_att.withColumn(\n",
        "    \"latitude\",\n",
        "     when(col(\"id\") == \"34e8c68b-6146-453f-a4b9-1f6cd99a5ada\", \"42.7201082\")\n",
        "    .otherwise(col(\"latitude\"))\n",
        ")"
      ],
      "metadata": {
        "id": "9jj9UVPrBOA8"
      },
      "execution_count": 127,
      "outputs": []
    },
    {
      "cell_type": "code",
      "source": [
        "df_br_att.select(\"id\", \"address_1\", \"address_2\", \"address_3\", \"latitude\", \"longitude\").orderBy(col(\"address_1\").asc()).show(50, False)"
      ],
      "metadata": {
        "colab": {
          "base_uri": "https://localhost:8080/"
        },
        "id": "9B_OEMyY_CFX",
        "outputId": "a61f531e-77ac-4a72-d011-cc3b5884d534"
      },
      "execution_count": 128,
      "outputs": [
        {
          "output_type": "stream",
          "name": "stdout",
          "text": [
            "+------------------------------------+------------------------------+---------+---------+-----------+------------+\n",
            "|id                                  |address_1                     |address_2|address_3|latitude   |longitude   |\n",
            "+------------------------------------+------------------------------+---------+---------+-----------+------------+\n",
            "|46839a79-b7bf-4733-b91b-ce116d062a57|100 B South Olive St          |NULL     |NULL     |34.001703  |-88.750264  |\n",
            "|4ffda196-dd59-44a5-9eeb-5f7fd4b58f5a|1043 Park St                  |NULL     |NULL     |39.38269495|-104.8667206|\n",
            "|84d621c4-81a5-44e6-aca7-1566c2e67cc0|11109 Plank Rd                |NULL     |NULL     |38.3279312 |-77.7187148 |\n",
            "|f41a0c47-ba9b-4547-bfed-fcbefe0fc74b|1129 Irvin Garrish Hwy        |NULL     |NULL     |35.10715368|-75.97176063|\n",
            "|e2e78bd8-80ff-4a61-a65c-3bfbd9d76ce2|1135 NW Galveston Ave Ste B   |NULL     |NULL     |44.0575649 |-121.3288021|\n",
            "|d35b40b0-a3ff-4878-a6ee-9caa2149b521|1146 colonel Joshua Ct        |NULL     |NULL     |39.4171642 |-76.9773789 |\n",
            "|0faa0fb2-fffa-416d-9eab-46f67477c8ef|12 W Main St                  |NULL     |NULL     |33.436188  |-111.5860662|\n",
            "|dbde8235-2b55-4d8b-8b1c-438155abe104|1301 S Chestnut St            |NULL     |NULL     |39.5172564 |-89.0503635 |\n",
            "|5ae467af-66dc-4d7f-8839-44228f89b596|1304 Scott St Ste D           |NULL     |NULL     |38.27029381|-122.665055 |\n",
            "|5c53b314-ebab-4e3e-89be-e4139d9318ae|1323 Capital Blvd 1323 R and D|NULL     |NULL     |35.8009165 |-78.6345215 |\n",
            "|6c53984f-fac1-4ea7-9c44-44e25897c71a|133 N Main St Ste 7           |NULL     |NULL     |44.8149712 |-73.0816367 |\n",
            "|50521ef7-f543-4c5d-98b1-0d0ee1a2be01|141 E 4th St Ste LL2          |NULL     |NULL     |44.9477074 |-93.0895051 |\n",
            "|58293321-14ae-49d7-9a7b-08436c9e63a6|141 E Main St                 |NULL     |NULL     |44.4146563 |-118.9218754|\n",
            "|e432899b-7f58-455f-9c7b-9a6e2130a1e0|1411 NW Flanders St           |NULL     |NULL     |45.5259786 |-122.6855056|\n",
            "|ef970757-fe42-416f-931d-722451f1f59c|1501 E St                     |NULL     |NULL     |32.714813  |-117.129593 |\n",
            "|5128df48-79fc-4f0f-8b52-d06be54d0cec|1716 Topeka St                |NULL     |NULL     |35.25738891|-97.46818222|\n",
            "|42aa37d5-8384-4ffe-8c81-7c982eff0384|2005 2nd Ave                  |NULL     |NULL     |45.19812039|-93.38952559|\n",
            "|896f26a1-d80e-4790-9287-026a86c1799d|2010 A State Ave              |NULL     |NULL     |40.50984957|-80.15020356|\n",
            "|4f4b5b34-d572-4dff-a18f-47e507c073e6|2045 N Forbes Blvd Ste 105    |NULL     |NULL     |32.24673727|-110.9927505|\n",
            "|e54c2f02-acd6-4172-861d-fcfa54c8701a|2416 Meridian St              |NULL     |NULL     |48.7621709 |-122.485982 |\n",
            "|45119c56-345b-4adc-b481-c5cf7bfe98c4|250 Mill St, Suite PW3101     |NULL     |NULL     |34.9206198 |-82.2846578 |\n",
            "|1988eb86-f0a2-4674-ba04-02454efa0d31|2620 Walnut St                |NULL     |NULL     |39.7592508 |-104.9853655|\n",
            "|4b677b60-fef1-42e2-90ef-dadc1bd7fb06|2801 Walnut St                |NULL     |NULL     |39.7614112 |-104.9839636|\n",
            "|03118499-a3d0-4c22-860d-4529509ae095|294793 US Highway 101         |NULL     |NULL     |47.82347577|-122.8755823|\n",
            "|fb94830f-6196-4f59-9189-c9060b778085|3000 E Ray Rd Bldg 6          |NULL     |NULL     |33.3219732 |-111.7267596|\n",
            "|d5cb896d-3e99-4e19-9693-5e06ce987e53|3090 Shirley Dr               |NULL     |NULL     |42.28667212|-84.43116792|\n",
            "|4788221a-a03b-458c-9084-4cadd69ade6d|31125 Via Colinas Ste 907     |NULL     |NULL     |34.15334   |-118.802397 |\n",
            "|84bd3b3c-bd2d-4e07-bc31-b43a8c8ebf4c|322 E Court Ave               |NULL     |NULL     |41.5872267 |-93.6120353 |\n",
            "|1a1b2165-73ed-40aa-b89b-56794d140f22|342 E Ward St                 |NULL     |NULL     |43.00436242|-87.90606942|\n",
            "|b7b68d22-5045-4501-b9bf-ec94946eaffc|36846 Co Hwy 66               |NULL     |NULL     |46.6876583 |-94.1123597 |\n",
            "|7531dbd8-afc9-4b5b-95bc-7ece7f2c0bf3|400 Brown Cir                 |NULL     |NULL     |41.289715  |-86.627954  |\n",
            "|9c5a66c8-cc13-416f-a5d9-0a769c87d318|407 Radam Ln Ste F200         |NULL     |NULL     |30.2232157 |-97.7701612 |\n",
            "|284b44f8-6ccb-4cd6-8d06-f2ad882a47c3|413 S Bedford St              |NULL     |NULL     |38.6788938 |-75.37816436|\n",
            "|1ecc330f-6275-42a5-b14e-00adbed62752|490 Mill St                   |NULL     |NULL     |39.5171702 |-119.7732015|\n",
            "|232e8f62-9afc-45f5-b4bc-582c26b5c43b|491 Washington St             |NULL     |NULL     |42.10591754|-70.94594149|\n",
            "|fe6b9893-b93e-43d5-a9f6-3e0c89a3f13c|5114 Yosemite All-Year Hwy    |NULL     |NULL     |37.570148  |-119.9036592|\n",
            "|add7f978-942e-4d56-b209-c80837a51d69|5417 Oakley Ave               |NULL     |NULL     |41.61556796|-87.517422  |\n",
            "|b51f3cdf-60ff-4ae1-94a7-76906c7d62eb|5725 Miller Ave               |NULL     |NULL     |41.59928343|-87.26887786|\n",
            "|9f1852da-c312-42da-9a31-097bac81c4c0|62950 NE 18th St              |NULL     |NULL     |44.0912109 |-121.2809536|\n",
            "|6d14b220-8926-4521-8d19-b98a2d6ec3db|62970 18th St                 |NULL     |NULL     |44.08683531|-121.281706 |\n",
            "|936c3d7e-5d54-4459-b72c-117cdda059b4|6410 SE Milwaukie Ave         |NULL     |NULL     |45.4762536 |-122.6487531|\n",
            "|08f78223-24f8-4b71-b381-ea19a5bd82df|6820 Bourgeois Rd             |NULL     |NULL     |29.9515464 |-95.5186591 |\n",
            "|950180bd-29c9-46b3-ad0c-e6f09799ec7f|7391 Forbes Rd                |NULL     |NULL     |39.12639764|-84.70634815|\n",
            "|85192a9c-58a4-48c3-bd9d-496d09d22aa3|753 Reading Rd                |NULL     |NULL     |39.3545967 |-84.3183801 |\n",
            "|d81ff708-b5d2-478f-af6a-6d40f5beb9ac|80 Earhart Dr Ste 20          |NULL     |NULL     |42.9539343 |-78.7127541 |\n",
            "|34e8c68b-6146-453f-a4b9-1f6cd99a5ada|8100 Washington Ave           |NULL     |NULL     |42.7201082 |-87.8833635 |\n",
            "|06e9fffb-e820-45c9-b107-b52b51013e8f|820 Main St                   |NULL     |NULL     |39.9782443 |-105.1319826|\n",
            "|ea4f30c0-bce6-416b-8904-fab4055a7362|826 W Bannock St              |NULL     |NULL     |43.618516  |-116.202929 |\n",
            "|ee6d39c6-092f-4623-8099-5b8643f70dbe|9542 Main St                  |NULL     |NULL     |43.24211175|-75.2565195 |\n",
            "|e5f3e72a-fee2-4813-82cf-f2e53b439ae6|Unnamed Street                |Clonmore |NULL     |52.84930763|-6.979343891|\n",
            "+------------------------------------+------------------------------+---------+---------+-----------+------------+\n",
            "\n"
          ]
        }
      ]
    },
    {
      "cell_type": "code",
      "source": [
        "df_br_att.select(\"*\").filter(col(\"id\").isin(\"e5f3e72a-fee2-4813-82cf-f2e53b439ae6\")).show(1, False)"
      ],
      "metadata": {
        "colab": {
          "base_uri": "https://localhost:8080/"
        },
        "id": "Iew0rIB5CELx",
        "outputId": "7e348b42-24ff-492b-ad04-a407d40c3c14"
      },
      "execution_count": 135,
      "outputs": [
        {
          "output_type": "stream",
          "name": "stdout",
          "text": [
            "+------------------------------------+------------------------+------------+---------+---------+---------+---------+--------------+-----------+-------+------------+-----------+------------+--------------------------+-----+--------------+\n",
            "|id                                  |name                    |brewery_type|address_1|address_2|address_3|city     |state_province|postal_code|country|longitude   |latitude   |phone       |website_url               |state|street        |\n",
            "+------------------------------------+------------------------+------------+---------+---------+---------+---------+--------------+-----------+-------+------------+-----------+------------+--------------------------+-----+--------------+\n",
            "|e5f3e72a-fee2-4813-82cf-f2e53b439ae6|12 Acres Brewing Company|micro       |Clonmore |NULL     |NULL     |Killeshin|Laois         |R93 X3X8   |Ireland|-6.979343891|52.84930763|353599107299|https://12acresbrewing.ie/|Laois|Unnamed Street|\n",
            "+------------------------------------+------------------------+------------+---------+---------+---------+---------+--------------+-----------+-------+------------+-----------+------------+--------------------------+-----+--------------+\n",
            "\n"
          ]
        }
      ]
    },
    {
      "cell_type": "code",
      "source": [
        "#df_br_att = df_br_att.withColumn(\n",
        "#    \"address_1\",\n",
        "#     when(col(\"id\") == \"e5f3e72a-fee2-4813-82cf-f2e53b439ae6\", \"Clonmore\")\n",
        "#    .otherwise(col(\"address_1\"))\n",
        "#)\n",
        "\n",
        "df_br_att = df_br_att.withColumn(\n",
        "    \"address_2\",\n",
        "     when(col(\"id\") == \"e5f3e72a-fee2-4813-82cf-f2e53b439ae6\", \"NULL\")\n",
        "    .otherwise(col(\"address_2\"))\n",
        ")"
      ],
      "metadata": {
        "id": "aWS6pEF8CoQz"
      },
      "execution_count": 134,
      "outputs": []
    },
    {
      "cell_type": "code",
      "source": [
        "df_br_att.select(\"id\", \"address_1\", \"address_2\", \"address_3\", \"latitude\", \"longitude\").orderBy(col(\"address_1\").asc()).show(50, False)"
      ],
      "metadata": {
        "colab": {
          "base_uri": "https://localhost:8080/"
        },
        "id": "U5VVubuhDFm0",
        "outputId": "29043da6-3662-477d-f595-98721ffc56d2"
      },
      "execution_count": 136,
      "outputs": [
        {
          "output_type": "stream",
          "name": "stdout",
          "text": [
            "+------------------------------------+------------------------------+---------+---------+-----------+------------+\n",
            "|id                                  |address_1                     |address_2|address_3|latitude   |longitude   |\n",
            "+------------------------------------+------------------------------+---------+---------+-----------+------------+\n",
            "|46839a79-b7bf-4733-b91b-ce116d062a57|100 B South Olive St          |NULL     |NULL     |34.001703  |-88.750264  |\n",
            "|4ffda196-dd59-44a5-9eeb-5f7fd4b58f5a|1043 Park St                  |NULL     |NULL     |39.38269495|-104.8667206|\n",
            "|84d621c4-81a5-44e6-aca7-1566c2e67cc0|11109 Plank Rd                |NULL     |NULL     |38.3279312 |-77.7187148 |\n",
            "|f41a0c47-ba9b-4547-bfed-fcbefe0fc74b|1129 Irvin Garrish Hwy        |NULL     |NULL     |35.10715368|-75.97176063|\n",
            "|e2e78bd8-80ff-4a61-a65c-3bfbd9d76ce2|1135 NW Galveston Ave Ste B   |NULL     |NULL     |44.0575649 |-121.3288021|\n",
            "|d35b40b0-a3ff-4878-a6ee-9caa2149b521|1146 colonel Joshua Ct        |NULL     |NULL     |39.4171642 |-76.9773789 |\n",
            "|0faa0fb2-fffa-416d-9eab-46f67477c8ef|12 W Main St                  |NULL     |NULL     |33.436188  |-111.5860662|\n",
            "|dbde8235-2b55-4d8b-8b1c-438155abe104|1301 S Chestnut St            |NULL     |NULL     |39.5172564 |-89.0503635 |\n",
            "|5ae467af-66dc-4d7f-8839-44228f89b596|1304 Scott St Ste D           |NULL     |NULL     |38.27029381|-122.665055 |\n",
            "|5c53b314-ebab-4e3e-89be-e4139d9318ae|1323 Capital Blvd 1323 R and D|NULL     |NULL     |35.8009165 |-78.6345215 |\n",
            "|6c53984f-fac1-4ea7-9c44-44e25897c71a|133 N Main St Ste 7           |NULL     |NULL     |44.8149712 |-73.0816367 |\n",
            "|50521ef7-f543-4c5d-98b1-0d0ee1a2be01|141 E 4th St Ste LL2          |NULL     |NULL     |44.9477074 |-93.0895051 |\n",
            "|58293321-14ae-49d7-9a7b-08436c9e63a6|141 E Main St                 |NULL     |NULL     |44.4146563 |-118.9218754|\n",
            "|e432899b-7f58-455f-9c7b-9a6e2130a1e0|1411 NW Flanders St           |NULL     |NULL     |45.5259786 |-122.6855056|\n",
            "|ef970757-fe42-416f-931d-722451f1f59c|1501 E St                     |NULL     |NULL     |32.714813  |-117.129593 |\n",
            "|5128df48-79fc-4f0f-8b52-d06be54d0cec|1716 Topeka St                |NULL     |NULL     |35.25738891|-97.46818222|\n",
            "|42aa37d5-8384-4ffe-8c81-7c982eff0384|2005 2nd Ave                  |NULL     |NULL     |45.19812039|-93.38952559|\n",
            "|896f26a1-d80e-4790-9287-026a86c1799d|2010 A State Ave              |NULL     |NULL     |40.50984957|-80.15020356|\n",
            "|4f4b5b34-d572-4dff-a18f-47e507c073e6|2045 N Forbes Blvd Ste 105    |NULL     |NULL     |32.24673727|-110.9927505|\n",
            "|e54c2f02-acd6-4172-861d-fcfa54c8701a|2416 Meridian St              |NULL     |NULL     |48.7621709 |-122.485982 |\n",
            "|45119c56-345b-4adc-b481-c5cf7bfe98c4|250 Mill St, Suite PW3101     |NULL     |NULL     |34.9206198 |-82.2846578 |\n",
            "|1988eb86-f0a2-4674-ba04-02454efa0d31|2620 Walnut St                |NULL     |NULL     |39.7592508 |-104.9853655|\n",
            "|4b677b60-fef1-42e2-90ef-dadc1bd7fb06|2801 Walnut St                |NULL     |NULL     |39.7614112 |-104.9839636|\n",
            "|03118499-a3d0-4c22-860d-4529509ae095|294793 US Highway 101         |NULL     |NULL     |47.82347577|-122.8755823|\n",
            "|fb94830f-6196-4f59-9189-c9060b778085|3000 E Ray Rd Bldg 6          |NULL     |NULL     |33.3219732 |-111.7267596|\n",
            "|d5cb896d-3e99-4e19-9693-5e06ce987e53|3090 Shirley Dr               |NULL     |NULL     |42.28667212|-84.43116792|\n",
            "|4788221a-a03b-458c-9084-4cadd69ade6d|31125 Via Colinas Ste 907     |NULL     |NULL     |34.15334   |-118.802397 |\n",
            "|84bd3b3c-bd2d-4e07-bc31-b43a8c8ebf4c|322 E Court Ave               |NULL     |NULL     |41.5872267 |-93.6120353 |\n",
            "|1a1b2165-73ed-40aa-b89b-56794d140f22|342 E Ward St                 |NULL     |NULL     |43.00436242|-87.90606942|\n",
            "|b7b68d22-5045-4501-b9bf-ec94946eaffc|36846 Co Hwy 66               |NULL     |NULL     |46.6876583 |-94.1123597 |\n",
            "|7531dbd8-afc9-4b5b-95bc-7ece7f2c0bf3|400 Brown Cir                 |NULL     |NULL     |41.289715  |-86.627954  |\n",
            "|9c5a66c8-cc13-416f-a5d9-0a769c87d318|407 Radam Ln Ste F200         |NULL     |NULL     |30.2232157 |-97.7701612 |\n",
            "|284b44f8-6ccb-4cd6-8d06-f2ad882a47c3|413 S Bedford St              |NULL     |NULL     |38.6788938 |-75.37816436|\n",
            "|1ecc330f-6275-42a5-b14e-00adbed62752|490 Mill St                   |NULL     |NULL     |39.5171702 |-119.7732015|\n",
            "|232e8f62-9afc-45f5-b4bc-582c26b5c43b|491 Washington St             |NULL     |NULL     |42.10591754|-70.94594149|\n",
            "|fe6b9893-b93e-43d5-a9f6-3e0c89a3f13c|5114 Yosemite All-Year Hwy    |NULL     |NULL     |37.570148  |-119.9036592|\n",
            "|add7f978-942e-4d56-b209-c80837a51d69|5417 Oakley Ave               |NULL     |NULL     |41.61556796|-87.517422  |\n",
            "|b51f3cdf-60ff-4ae1-94a7-76906c7d62eb|5725 Miller Ave               |NULL     |NULL     |41.59928343|-87.26887786|\n",
            "|9f1852da-c312-42da-9a31-097bac81c4c0|62950 NE 18th St              |NULL     |NULL     |44.0912109 |-121.2809536|\n",
            "|6d14b220-8926-4521-8d19-b98a2d6ec3db|62970 18th St                 |NULL     |NULL     |44.08683531|-121.281706 |\n",
            "|936c3d7e-5d54-4459-b72c-117cdda059b4|6410 SE Milwaukie Ave         |NULL     |NULL     |45.4762536 |-122.6487531|\n",
            "|08f78223-24f8-4b71-b381-ea19a5bd82df|6820 Bourgeois Rd             |NULL     |NULL     |29.9515464 |-95.5186591 |\n",
            "|950180bd-29c9-46b3-ad0c-e6f09799ec7f|7391 Forbes Rd                |NULL     |NULL     |39.12639764|-84.70634815|\n",
            "|85192a9c-58a4-48c3-bd9d-496d09d22aa3|753 Reading Rd                |NULL     |NULL     |39.3545967 |-84.3183801 |\n",
            "|d81ff708-b5d2-478f-af6a-6d40f5beb9ac|80 Earhart Dr Ste 20          |NULL     |NULL     |42.9539343 |-78.7127541 |\n",
            "|34e8c68b-6146-453f-a4b9-1f6cd99a5ada|8100 Washington Ave           |NULL     |NULL     |42.7201082 |-87.8833635 |\n",
            "|06e9fffb-e820-45c9-b107-b52b51013e8f|820 Main St                   |NULL     |NULL     |39.9782443 |-105.1319826|\n",
            "|ea4f30c0-bce6-416b-8904-fab4055a7362|826 W Bannock St              |NULL     |NULL     |43.618516  |-116.202929 |\n",
            "|ee6d39c6-092f-4623-8099-5b8643f70dbe|9542 Main St                  |NULL     |NULL     |43.24211175|-75.2565195 |\n",
            "|e5f3e72a-fee2-4813-82cf-f2e53b439ae6|Clonmore                      |NULL     |NULL     |52.84930763|-6.979343891|\n",
            "+------------------------------------+------------------------------+---------+---------+-----------+------------+\n",
            "\n"
          ]
        }
      ]
    },
    {
      "cell_type": "code",
      "source": [
        "df_br_att.show(50, False)"
      ],
      "metadata": {
        "colab": {
          "base_uri": "https://localhost:8080/"
        },
        "id": "dwM7nzUVDRzo",
        "outputId": "25fbee26-8a54-47e3-fe64-9adfdf574c2c"
      },
      "execution_count": 138,
      "outputs": [
        {
          "output_type": "stream",
          "name": "stdout",
          "text": [
            "+------------------------------------+---------------------------------------------+------------+------------------------------+---------+---------+----------------+--------------+-----------+-------------+------------+-----------+------------+----------------------------------+--------------+------------------------------+\n",
            "|id                                  |name                                         |brewery_type|address_1                     |address_2|address_3|city            |state_province|postal_code|country      |longitude   |latitude   |phone       |website_url                       |state         |street                        |\n",
            "+------------------------------------+---------------------------------------------+------------+------------------------------+---------+---------+----------------+--------------+-----------+-------------+------------+-----------+------------+----------------------------------+--------------+------------------------------+\n",
            "|5128df48-79fc-4f0f-8b52-d06be54d0cec|(405) Brewing Co                             |micro       |1716 Topeka St                |NULL     |NULL     |Norman          |Oklahoma      |73069-8224 |United States|-97.46818222|35.25738891|4058160490  |http://www.405brewing.com         |Oklahoma      |1716 Topeka St                |\n",
            "|9c5a66c8-cc13-416f-a5d9-0a769c87d318|(512) Brewing Co                             |micro       |407 Radam Ln Ste F200         |NULL     |NULL     |Austin          |Texas         |78745-1197 |United States|-97.7701612 |30.2232157 |5129211545  |http://www.512brewing.com         |Texas         |407 Radam Ln Ste F200         |\n",
            "|34e8c68b-6146-453f-a4b9-1f6cd99a5ada|1 of Us Brewing Company                      |micro       |8100 Washington Ave           |NULL     |NULL     |Mount Pleasant  |Wisconsin     |53406-3920 |United States|-87.8833635 |42.7201082 |2624847553  |https://www.1ofusbrewing.com      |Wisconsin     |8100 Washington Ave           |\n",
            "|ef970757-fe42-416f-931d-722451f1f59c|10 Barrel Brewing Co                         |large       |1501 E St                     |NULL     |NULL     |San Diego       |California    |92101-6618 |United States|-117.129593 |32.714813  |6195782311  |http://10barrel.com               |California    |1501 E St                     |\n",
            "|6d14b220-8926-4521-8d19-b98a2d6ec3db|10 Barrel Brewing Co                         |large       |62970 18th St                 |NULL     |NULL     |Bend            |Oregon        |97701-9847 |United States|-121.281706 |44.08683531|5415851007  |http://www.10barrel.com           |Oregon        |62970 18th St                 |\n",
            "|e2e78bd8-80ff-4a61-a65c-3bfbd9d76ce2|10 Barrel Brewing Co                         |large       |1135 NW Galveston Ave Ste B   |NULL     |NULL     |Bend            |Oregon        |97703-2465 |United States|-121.3288021|44.0575649 |5415851007  |NULL                              |Oregon        |1135 NW Galveston Ave Ste B   |\n",
            "|e432899b-7f58-455f-9c7b-9a6e2130a1e0|10 Barrel Brewing Co                         |large       |1411 NW Flanders St           |NULL     |NULL     |Portland        |Oregon        |97209-2620 |United States|-122.6855056|45.5259786 |5032241700  |http://www.10barrel.com           |Oregon        |1411 NW Flanders St           |\n",
            "|9f1852da-c312-42da-9a31-097bac81c4c0|10 Barrel Brewing Co - Bend Pub              |large       |62950 NE 18th St              |NULL     |NULL     |Bend            |Oregon        |97701      |United States|-121.2809536|44.0912109 |5415851007  |NULL                              |Oregon        |62950 NE 18th St              |\n",
            "|ea4f30c0-bce6-416b-8904-fab4055a7362|10 Barrel Brewing Co - Boise                 |large       |826 W Bannock St              |NULL     |NULL     |Boise           |Idaho         |83702-5857 |United States|-116.202929 |43.618516  |2083445870  |http://www.10barrel.com           |Idaho         |826 W Bannock St              |\n",
            "|1988eb86-f0a2-4674-ba04-02454efa0d31|10 Barrel Brewing Co - Denver                |large       |2620 Walnut St                |NULL     |NULL     |Denver          |Colorado      |80205-2231 |United States|-104.9853655|39.7592508 |7205738992  |NULL                              |Colorado      |2620 Walnut St                |\n",
            "|1ecc330f-6275-42a5-b14e-00adbed62752|10 Torr Distilling and Brewing               |micro       |490 Mill St                   |NULL     |NULL     |Reno            |Nevada        |89502      |United States|-119.7732015|39.5171702 |7755307014  |http://www.10torr.com             |Nevada        |490 Mill St                   |\n",
            "|7531dbd8-afc9-4b5b-95bc-7ece7f2c0bf3|10-56 Brewing Company                        |micro       |400 Brown Cir                 |NULL     |NULL     |Knox            |Indiana       |46534      |United States|-86.627954  |41.289715  |6308165790  |NULL                              |Indiana       |400 Brown Cir                 |\n",
            "|03118499-a3d0-4c22-860d-4529509ae095|101 Brewery                                  |brewpub     |294793 US Highway 101         |NULL     |NULL     |Quilcene        |Washington    |98376-9000 |United States|-122.8755823|47.82347577|3607656485  |http://www.101brewery.com         |Washington    |294793 US Highway 101         |\n",
            "|5ae467af-66dc-4d7f-8839-44228f89b596|101 North Brewing Company                    |closed      |1304 Scott St Ste D           |NULL     |NULL     |Petaluma        |California    |94954-7100 |United States|-122.665055 |38.27029381|7077534934  |http://www.101northbeer.com       |California    |1304 Scott St Ste D           |\n",
            "|4ffda196-dd59-44a5-9eeb-5f7fd4b58f5a|105 West Brewing Co                          |micro       |1043 Park St                  |NULL     |NULL     |Castle Rock     |Colorado      |80109-1585 |United States|-104.8667206|39.38269495|3033257321  |http://www.105westbrewing.com     |Colorado      |1043 Park St                  |\n",
            "|42aa37d5-8384-4ffe-8c81-7c982eff0384|10K Brewing                                  |micro       |2005 2nd Ave                  |NULL     |NULL     |Anoka           |Minnesota     |55303-2243 |United States|-93.38952559|45.19812039|7633924753  |http://10KBrew.com                |Minnesota     |2005 2nd Ave                  |\n",
            "|232e8f62-9afc-45f5-b4bc-582c26b5c43b|10th District Brewing Company                |micro       |491 Washington St             |NULL     |NULL     |Abington        |Massachusetts |02351-2419 |United States|-70.94594149|42.10591754|7813071554  |http://www.10thdistrictbrewing.com|Massachusetts |491 Washington St             |\n",
            "|08f78223-24f8-4b71-b381-ea19a5bd82df|11 Below Brewing Company                     |micro       |6820 Bourgeois Rd             |NULL     |NULL     |Houston         |Texas         |77066-3107 |United States|-95.5186591 |29.9515464 |2814442337  |http://www.11belowbrewing.com     |Texas         |6820 Bourgeois Rd             |\n",
            "|58293321-14ae-49d7-9a7b-08436c9e63a6|1188 Brewing Co                              |brewpub     |141 E Main St                 |NULL     |NULL     |John Day        |Oregon        |97845-1210 |United States|-118.9218754|44.4146563 |5415751188  |http://www.1188brewing.com        |Oregon        |141 E Main St                 |\n",
            "|e5f3e72a-fee2-4813-82cf-f2e53b439ae6|12 Acres Brewing Company                     |micro       |Clonmore                      |NULL     |NULL     |Killeshin       |Laois         |R93 X3X8   |Ireland      |-6.979343891|52.84930763|353599107299|https://12acresbrewing.ie/        |Laois         |Unnamed Street                |\n",
            "|d81ff708-b5d2-478f-af6a-6d40f5beb9ac|12 Gates Brewing Company                     |brewpub     |80 Earhart Dr Ste 20          |NULL     |NULL     |Williamsville   |New York      |14221-7804 |United States|-78.7127541 |42.9539343 |7169066600  |http://www.12gatesbrewing.com     |New York      |80 Earhart Dr Ste 20          |\n",
            "|fb94830f-6196-4f59-9189-c9060b778085|12 West Brewing Company                      |micro       |3000 E Ray Rd Bldg 6          |NULL     |NULL     |Gilbert         |Arizona       |85296-7832 |United States|-111.7267596|33.3219732 |6023395014  |http://www.12westbrewing.com      |Arizona       |3000 E Ray Rd Bldg 6          |\n",
            "|0faa0fb2-fffa-416d-9eab-46f67477c8ef|12 West Brewing Company - Production Facility|micro       |12 W Main St                  |NULL     |NULL     |Mesa            |Arizona       |85207      |United States|-111.5860662|33.436188  |NULL        |NULL                              |Arizona       |NULL                          |\n",
            "|e54c2f02-acd6-4172-861d-fcfa54c8701a|122 West Brewing Co                          |closed      |2416 Meridian St              |NULL     |NULL     |Bellingham      |Washington    |98225-2405 |United States|-122.485982 |48.7621709 |3603063285  |https://www.122westbrew.com/      |Washington    |2416 Meridian St              |\n",
            "|d5cb896d-3e99-4e19-9693-5e06ce987e53|127 Brewing                                  |micro       |3090 Shirley Dr               |NULL     |NULL     |Jackson         |Michigan      |49201-7010 |United States|-84.43116792|42.28667212|5172581346  |NULL                              |Michigan      |3090 Shirley Dr               |\n",
            "|06e9fffb-e820-45c9-b107-b52b51013e8f|12Degree Brewing                             |brewpub     |820 Main St                   |NULL     |NULL     |Louisville      |Colorado      |80027-1865 |United States|-105.1319826|39.9782443 |3035791004  |http://www.12degree.com           |Colorado      |820 Main St                   |\n",
            "|50521ef7-f543-4c5d-98b1-0d0ee1a2be01|12welve Eyes Brewing                         |micro       |141 E 4th St Ste LL2          |NULL     |NULL     |Saint Paul      |Minnesota     |55101-1639 |United States|-93.0895051 |44.9477074 |6514938106  |http://www.12welveEyes.com        |Minnesota     |141 E 4th St Ste LL2          |\n",
            "|950180bd-29c9-46b3-ad0c-e6f09799ec7f|13 Below Brewery                             |micro       |7391 Forbes Rd                |NULL     |NULL     |Cincinnati      |Ohio          |45233-1013 |United States|-84.70634815|39.12639764|5139750613  |http://www.13belowbrewery.com     |Ohio          |7391 Forbes Rd                |\n",
            "|45119c56-345b-4adc-b481-c5cf7bfe98c4|13 Stripes Brewery                           |brewpub     |250 Mill St, Suite PW3101     |NULL     |NULL     |Taylors         |South Carolina|29687      |United States|-82.2846578 |34.9206198 |8643491430  |http://www.13StripesBrewery.com   |South Carolina|250 Mill St, Suite PW3101     |\n",
            "|936c3d7e-5d54-4459-b72c-117cdda059b4|13 Virtues Brewing Co                        |brewpub     |6410 SE Milwaukie Ave         |NULL     |NULL     |Portland        |Oregon        |97202-5518 |United States|-122.6487531|45.4762536 |5032393831  |http://www.13virtuesbrewing.com   |Oregon        |6410 SE Milwaukie Ave         |\n",
            "|5c53b314-ebab-4e3e-89be-e4139d9318ae|1323 R & D                                   |micro       |1323 Capital Blvd 1323 R and D|NULL     |NULL     |Raleigh         |North Carolina|27603-1117 |United States|-78.6345215 |35.8009165 |9199775654  |http://www.1323rnd.com            |North Carolina|1323 Capital Blvd 1323 R and D|\n",
            "|4788221a-a03b-458c-9084-4cadd69ade6d|14 Cannons Brewing Company                   |micro       |31125 Via Colinas Ste 907     |NULL     |NULL     |Westlake Village|California    |91362-3974 |United States|-118.802397 |34.15334   |8186996165  |http://14cannons.com              |California    |31125 Via Colinas Ste 907     |\n",
            "|b7b68d22-5045-4501-b9bf-ec94946eaffc|14 Lakes Brewery                             |micro       |36846 Co Hwy 66               |NULL     |NULL     |Crosslake       |Minnesota     |56442      |United States|-94.1123597 |46.6876583 |2186924129  |NULL                              |Minnesota     |NULL                          |\n",
            "|4b677b60-fef1-42e2-90ef-dadc1bd7fb06|14er Brewing Company                         |proprietor  |2801 Walnut St                |NULL     |NULL     |Denver          |Colorado      |80205-2235 |United States|-104.9839636|39.7614112 |7207731437  |http://www.14erBrewing.com        |Colorado      |2801 Walnut St                |\n",
            "|6c53984f-fac1-4ea7-9c44-44e25897c71a|14th Star Brewing                            |micro       |133 N Main St Ste 7           |NULL     |NULL     |Saint Albans    |Vermont       |05478-1735 |United States|-73.0816367 |44.8149712 |8025285988  |http://www.14thstarbrewing.com    |Vermont       |133 N Main St Ste 7           |\n",
            "|85192a9c-58a4-48c3-bd9d-496d09d22aa3|16 Lots Brewing                              |brewpub     |753 Reading Rd                |NULL     |NULL     |Mason           |Ohio          |45040-1303 |United States|-84.3183801 |39.3545967 |5134863672  |http://www.16lots.com             |Ohio          |753 Reading Rd                |\n",
            "|284b44f8-6ccb-4cd6-8d06-f2ad882a47c3|16 Mile Brewing Co                           |micro       |413 S Bedford St              |NULL     |NULL     |Georgetown      |Delaware      |19947-1849 |United States|-75.37816436|38.6788938 |3022538816  |http://www.16milebrewery.com      |Delaware      |413 S Bedford St              |\n",
            "|ee6d39c6-092f-4623-8099-5b8643f70dbe|16 Stone Brewpub                             |brewpub     |9542 Main St                  |NULL     |NULL     |Holland Patent  |New York      |13354      |United States|-75.2565195 |43.24211175|3158658500  |http://www.16stonebrewpub.com     |New York      |9542 Main St                  |\n",
            "|d35b40b0-a3ff-4878-a6ee-9caa2149b521|1623 Brewing CO, llc                         |contract    |1146 colonel Joshua Ct        |NULL     |NULL     |Westminister    |Maryland      |21157      |United States|-76.9773789 |39.4171642 |NULL        |NULL                              |Maryland      |1146 colonel Joshua Ct        |\n",
            "|84bd3b3c-bd2d-4e07-bc31-b43a8c8ebf4c|1717 Brewing Co                              |micro       |322 E Court Ave               |NULL     |NULL     |Des Moines      |Iowa          |50309-2015 |United States|-93.6120353 |41.5872267 |5152437868  |http://1717brewing.com            |Iowa          |322 E Court Ave               |\n",
            "|f41a0c47-ba9b-4547-bfed-fcbefe0fc74b|1718 Ocracoke Brewing                        |brewpub     |1129 Irvin Garrish Hwy        |NULL     |NULL     |Ocracoke        |North Carolina|27960      |United States|-75.97176063|35.10715368|2529282337  |http://www.ocracokebrewing.com    |North Carolina|1129 Irvin Garrish Hwy        |\n",
            "|84d621c4-81a5-44e6-aca7-1566c2e67cc0|1781 Brewing Company                         |micro       |11109 Plank Rd                |NULL     |NULL     |Spotsylvania    |Virginia      |22553-4258 |United States|-77.7187148 |38.3279312 |5408412598  |NULL                              |Virginia      |11109 Plank Rd                |\n",
            "|896f26a1-d80e-4790-9287-026a86c1799d|180 and Tapped                               |micro       |2010 A State Ave              |NULL     |NULL     |Coraopolis      |Pennsylvania  |15108      |United States|-80.15020356|40.50984957|4127375273  |http://www.180andtapped.com       |Pennsylvania  |2010 A State Ave              |\n",
            "|46839a79-b7bf-4733-b91b-ce116d062a57|1817 Brewery                                 |micro       |100 B South Olive St          |NULL     |NULL     |okolona         |Mississippi   |38860      |United States|-88.750264  |34.001703  |6623055907  |NULL                              |Mississippi   |100 B South Olive St          |\n",
            "|1a1b2165-73ed-40aa-b89b-56794d140f22|1840 Brewing Company                         |micro       |342 E Ward St                 |NULL     |NULL     |Milwaukee       |Wisconsin     |53207-1348 |United States|-87.90606942|43.00436242|4142364056  |http://www.1840brewing.com        |Wisconsin     |342 E Ward St                 |\n",
            "|fe6b9893-b93e-43d5-a9f6-3e0c89a3f13c|1850 Brewing Company                         |micro       |5114 Yosemite All-Year Hwy    |NULL     |NULL     |Mariposa        |California    |95338      |United States|-119.9036592|37.570148  |NULL        |http://www.1850restaurant.com     |California    |NULL                          |\n",
            "|b51f3cdf-60ff-4ae1-94a7-76906c7d62eb|18th Street Brewery                          |micro       |5725 Miller Ave               |NULL     |NULL     |Gary            |Indiana       |46403-2871 |United States|-87.26887786|41.59928343|NULL        |http://www.18thstreetbrewery.com  |Indiana       |5725 Miller Ave               |\n",
            "|add7f978-942e-4d56-b209-c80837a51d69|18th Street Brewery                          |micro       |5417 Oakley Ave               |NULL     |NULL     |Hammond         |Indiana       |46320-1817 |United States|-87.517422  |41.61556796|NULL        |NULL                              |Indiana       |5417 Oakley Ave               |\n",
            "|dbde8235-2b55-4d8b-8b1c-438155abe104|1905 Brewing Company                         |micro       |1301 S Chestnut St            |NULL     |NULL     |Assumption      |Illinois      |62510-8504 |United States|-89.0503635 |39.5172564 |2172549374  |http://1905BrewingCompany.com     |Illinois      |1301 S Chestnut St            |\n",
            "|4f4b5b34-d572-4dff-a18f-47e507c073e6|1912 Brewing                                 |micro       |2045 N Forbes Blvd Ste 105    |NULL     |NULL     |Tucson          |Arizona       |85745-1444 |United States|-110.9927505|32.24673727|5202564851  |http://www.1912brewing.com        |Arizona       |2045 N Forbes Blvd Ste 105    |\n",
            "+------------------------------------+---------------------------------------------+------------+------------------------------+---------+---------+----------------+--------------+-----------+-------------+------------+-----------+------------+----------------------------------+--------------+------------------------------+\n",
            "\n"
          ]
        }
      ]
    }
  ]
}